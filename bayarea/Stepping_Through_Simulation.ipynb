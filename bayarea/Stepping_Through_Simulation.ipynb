{
 "cells": [
  {
   "cell_type": "code",
   "execution_count": null,
   "metadata": {},
   "outputs": [],
   "source": [
    "%%capture\n",
    "import sys\n",
    "import time\n",
    "import argparse\n",
    "import numpy as np\n",
    "\n",
    "import orca\n",
    "\n",
    "### LCOG table/variable/model definitions\n",
    "from lcog import datasources # /lcog/datasources.py\n",
    "from lcog import variables   # /lcog/variables.py\n",
    "from lcog import models      # /lcog/models.py\n",
    "\n",
    "### UrbanSim Template imports\n",
    "from urbansim.models import util\n",
    "from urbansim_templates import modelmanager as mm\n",
    "from urbansim_templates.models import OLSRegressionStep"
   ]
  },
  {
   "cell_type": "markdown",
   "metadata": {},
   "source": [
    "##  Register all estimated models with Orca\n",
    "\n",
    "This step takes the persisted models (.yaml files) in the /configs directory and makes them Python model objects that we can run in simulation.  The yaml files store model coefficients/settings."
   ]
  },
  {
   "cell_type": "code",
   "execution_count": 2,
   "metadata": {},
   "outputs": [
    {
     "name": "stdout",
     "output_type": "stream",
     "text": [
      "Registering model step 'elcm5'\n",
      "Registering model step 'tenure_choice_model'\n",
      "Registering model step 'repm_sf_detached'\n",
      "Registering model step 'repm_industrial'\n",
      "Registering model step 'repm_duplex_townhome'\n",
      "Registering model step 'elcm12'\n",
      "Registering model step 'tenure_choice_model2'\n",
      "Registering model step 'elcm6'\n",
      "Registering model step 'tenure_choice_model1'\n",
      "Registering model step 'elcm9'\n",
      "Registering model step 'elcm1'\n",
      "Registering model step 'elcm11'\n",
      "Registering model step 'elcm2'\n",
      "Registering model step 'repm_multifamily'\n",
      "Registering model step 'elcm7'\n",
      "Registering model step 'repm_retail'\n",
      "Registering model step 'elcm10'\n",
      "Registering model step 'elcm3'\n",
      "Registering model step 'elcm8'\n",
      "Registering model step 'elcm13'\n",
      "Registering model step 'repm_residential'\n",
      "Registering model step 'elcm15'\n",
      "Registering model step 'elcm4'\n",
      "Registering model step 'repm_office'\n",
      "Registering model step 'hlcm2'\n",
      "Registering model step 'household_relocation_choice_model'\n",
      "Registering model step 'elcm14'\n",
      "Registering model step 'hlcm1'\n",
      "Registering model step 'tenure_choice_model3'\n"
     ]
    }
   ],
   "source": [
    "mm.initialize()"
   ]
  },
  {
   "cell_type": "markdown",
   "metadata": {},
   "source": [
    "## Optionally, fix the random seed for replicability\n",
    "\n",
    "Microsimulation models like UrbanSim will display run-to-run variability in results if the random seed is allowed to vary (the default).   This can be useful for gauging the breadth of possible outcomes.  But fixing the random seed makes the result repeatable."
   ]
  },
  {
   "cell_type": "code",
   "execution_count": 3,
   "metadata": {},
   "outputs": [],
   "source": [
    "np.random.seed(1)"
   ]
  },
  {
   "cell_type": "markdown",
   "metadata": {},
   "source": [
    "## Initialize the network accessibility calculator\n",
    "\n",
    "This pre-processing step makes `pandana` accessibility queries run much faster.  Each parcel is associated with the nearest node, and node-to-node impedance distances within some buffer are pre-calculated."
   ]
  },
  {
   "cell_type": "code",
   "execution_count": 4,
   "metadata": {},
   "outputs": [
    {
     "name": "stdout",
     "output_type": "stream",
     "text": [
      "Running step 'build_networks'\n"
     ]
    },
    {
     "name": "stderr",
     "output_type": "stream",
     "text": [
      "/home/janowicz/clients/lcog/lcog/lcog/datasources.py:180: SettingWithCopyWarning: \n",
      "A value is trying to be set on a copy of a slice from a DataFrame\n",
      "\n",
      "See the caveats in the documentation: http://pandas.pydata.org/pandas-docs/stable/indexing.html#indexing-view-versus-copy\n",
      "  craigslist.rent[craigslist.rent < 100] = 100\n",
      "/home/janowicz/clients/lcog/lcog/lcog/datasources.py:181: SettingWithCopyWarning: \n",
      "A value is trying to be set on a copy of a slice from a DataFrame\n",
      "\n",
      "See the caveats in the documentation: http://pandas.pydata.org/pandas-docs/stable/indexing.html#indexing-view-versus-copy\n",
      "  craigslist.rent[craigslist.rent > 10000] = 10000\n",
      "/home/janowicz/clients/lcog/lcog/lcog/datasources.py:183: SettingWithCopyWarning: \n",
      "A value is trying to be set on a copy of a slice from a DataFrame\n",
      "\n",
      "See the caveats in the documentation: http://pandas.pydata.org/pandas-docs/stable/indexing.html#indexing-view-versus-copy\n",
      "  craigslist.rent_sqft[craigslist.rent_sqft < .2] = .2\n",
      "/home/janowicz/clients/lcog/lcog/lcog/datasources.py:184: SettingWithCopyWarning: \n",
      "A value is trying to be set on a copy of a slice from a DataFrame\n",
      "\n",
      "See the caveats in the documentation: http://pandas.pydata.org/pandas-docs/stable/indexing.html#indexing-view-versus-copy\n",
      "  craigslist.rent_sqft[craigslist.rent_sqft > 50] = 50\n"
     ]
    },
    {
     "name": "stdout",
     "output_type": "stream",
     "text": [
      "Number of nodes is 27052.\n",
      "Number of edges is 34835.\n"
     ]
    },
    {
     "name": "stderr",
     "output_type": "stream",
     "text": [
      "/home/janowicz/anaconda2/envs/template/lib/python3.6/site-packages/pandana/network.py:82: FutureWarning: Method .as_matrix will be removed in a future version. Use .values instead.\n",
      "  nodes_df.astype('double').as_matrix(),\n",
      "/home/janowicz/anaconda2/envs/template/lib/python3.6/site-packages/pandana/network.py:83: FutureWarning: Method .as_matrix will be removed in a future version. Use .values instead.\n",
      "  edges.as_matrix(),\n",
      "/home/janowicz/anaconda2/envs/template/lib/python3.6/site-packages/pandana/network.py:85: FutureWarning: Method .as_matrix will be removed in a future version. Use .values instead.\n",
      "  .astype('double')\n",
      "/home/janowicz/anaconda2/envs/template/lib/python3.6/site-packages/pandana/network.py:91: FutureWarning: Method .as_matrix will be removed in a future version. Use .values instead.\n",
      "  self.kdtree = KDTree(nodes_df.as_matrix())\n"
     ]
    },
    {
     "name": "stdout",
     "output_type": "stream",
     "text": [
      "Precomputing network for distance 5000.\n",
      "Network precompute starting.\n",
      "Network precompute done.\n",
      "Time to execute step 'build_networks': 1.53 s\n",
      "Total time to execute iteration 1 with iteration value None: 1.53 s\n"
     ]
    },
    {
     "name": "stderr",
     "output_type": "stream",
     "text": [
      "/home/janowicz/anaconda2/envs/template/lib/python3.6/site-packages/pandana/network.py:371: FutureWarning: Method .as_matrix will be removed in a future version. Use .values instead.\n",
      "  distances, indexes = self.kdtree.query(xys.as_matrix())\n"
     ]
    }
   ],
   "source": [
    "orca.run(['build_networks'])"
   ]
  },
  {
   "cell_type": "markdown",
   "metadata": {},
   "source": [
    "## Household transition\n",
    "\n",
    "Introduce new households into the region to match control totals.\n",
    "\n",
    "Household control totals can be pretty arbitrarily detailed and can utilize any household table attributes.\n",
    "\n",
    "Notice the year argument passed to `orca.run`-  for control-total-based transition (as opposed to growth rate-based), a year is needed the model knows what targets to match."
   ]
  },
  {
   "cell_type": "code",
   "execution_count": 5,
   "metadata": {},
   "outputs": [
    {
     "name": "stdout",
     "output_type": "stream",
     "text": [
      "Running iteration 1 with iteration value 2030\n",
      "Running step 'household_transition'\n",
      "Total agents before transition: 88839\n",
      "Total agents after transition: 125199\n",
      "Time to execute step 'household_transition': 0.13 s\n",
      "Total time to execute iteration 1 with iteration value 2030: 0.13 s\n"
     ]
    }
   ],
   "source": [
    "orca.run(['household_transition'], iter_vars=[2030])"
   ]
  },
  {
   "cell_type": "code",
   "execution_count": 6,
   "metadata": {},
   "outputs": [
    {
     "data": {
      "text/plain": [
       "36360"
      ]
     },
     "execution_count": 6,
     "metadata": {},
     "output_type": "execute_result"
    }
   ],
   "source": [
    "len(orca.get_table('households').local.query('building_id == -1'))"
   ]
  },
  {
   "cell_type": "markdown",
   "metadata": {},
   "source": [
    "#### Building_id for new households will be set to -1 (an UrbanSim convention denoting \"unplaced\" status)"
   ]
  },
  {
   "cell_type": "code",
   "execution_count": 7,
   "metadata": {},
   "outputs": [
    {
     "data": {
      "text/html": [
       "<div>\n",
       "<style scoped>\n",
       "    .dataframe tbody tr th:only-of-type {\n",
       "        vertical-align: middle;\n",
       "    }\n",
       "\n",
       "    .dataframe tbody tr th {\n",
       "        vertical-align: top;\n",
       "    }\n",
       "\n",
       "    .dataframe thead th {\n",
       "        text-align: right;\n",
       "    }\n",
       "</style>\n",
       "<table border=\"1\" class=\"dataframe\">\n",
       "  <thead>\n",
       "    <tr style=\"text-align: right;\">\n",
       "      <th></th>\n",
       "      <th>serialno</th>\n",
       "      <th>persons</th>\n",
       "      <th>cars</th>\n",
       "      <th>income</th>\n",
       "      <th>race_of_head</th>\n",
       "      <th>hispanic_head</th>\n",
       "      <th>age_of_head</th>\n",
       "      <th>workers</th>\n",
       "      <th>children</th>\n",
       "      <th>tenure</th>\n",
       "      <th>recent_mover</th>\n",
       "      <th>building_id</th>\n",
       "    </tr>\n",
       "  </thead>\n",
       "  <tbody>\n",
       "    <tr>\n",
       "      <th>182335</th>\n",
       "      <td>2013000141980</td>\n",
       "      <td>2</td>\n",
       "      <td>0</td>\n",
       "      <td>12600</td>\n",
       "      <td>1</td>\n",
       "      <td>0</td>\n",
       "      <td>62</td>\n",
       "      <td>0</td>\n",
       "      <td>0</td>\n",
       "      <td>1</td>\n",
       "      <td>0</td>\n",
       "      <td>-1</td>\n",
       "    </tr>\n",
       "    <tr>\n",
       "      <th>182336</th>\n",
       "      <td>2013001365107</td>\n",
       "      <td>2</td>\n",
       "      <td>3</td>\n",
       "      <td>71000</td>\n",
       "      <td>1</td>\n",
       "      <td>0</td>\n",
       "      <td>59</td>\n",
       "      <td>2</td>\n",
       "      <td>0</td>\n",
       "      <td>1</td>\n",
       "      <td>0</td>\n",
       "      <td>-1</td>\n",
       "    </tr>\n",
       "    <tr>\n",
       "      <th>182337</th>\n",
       "      <td>2010000484352</td>\n",
       "      <td>6</td>\n",
       "      <td>2</td>\n",
       "      <td>62800</td>\n",
       "      <td>1</td>\n",
       "      <td>0</td>\n",
       "      <td>31</td>\n",
       "      <td>1</td>\n",
       "      <td>4</td>\n",
       "      <td>1</td>\n",
       "      <td>0</td>\n",
       "      <td>-1</td>\n",
       "    </tr>\n",
       "    <tr>\n",
       "      <th>182338</th>\n",
       "      <td>2012000136905</td>\n",
       "      <td>2</td>\n",
       "      <td>2</td>\n",
       "      <td>36000</td>\n",
       "      <td>8</td>\n",
       "      <td>1</td>\n",
       "      <td>25</td>\n",
       "      <td>2</td>\n",
       "      <td>0</td>\n",
       "      <td>1</td>\n",
       "      <td>0</td>\n",
       "      <td>-1</td>\n",
       "    </tr>\n",
       "    <tr>\n",
       "      <th>182339</th>\n",
       "      <td>2013000079924</td>\n",
       "      <td>1</td>\n",
       "      <td>1</td>\n",
       "      <td>22000</td>\n",
       "      <td>8</td>\n",
       "      <td>0</td>\n",
       "      <td>82</td>\n",
       "      <td>0</td>\n",
       "      <td>0</td>\n",
       "      <td>2</td>\n",
       "      <td>0</td>\n",
       "      <td>-1</td>\n",
       "    </tr>\n",
       "  </tbody>\n",
       "</table>\n",
       "</div>"
      ],
      "text/plain": [
       "             serialno  persons  cars  income  race_of_head  hispanic_head  \\\n",
       "182335  2013000141980        2     0   12600             1              0   \n",
       "182336  2013001365107        2     3   71000             1              0   \n",
       "182337  2010000484352        6     2   62800             1              0   \n",
       "182338  2012000136905        2     2   36000             8              1   \n",
       "182339  2013000079924        1     1   22000             8              0   \n",
       "\n",
       "        age_of_head  workers  children  tenure  recent_mover  building_id  \n",
       "182335           62        0         0       1             0           -1  \n",
       "182336           59        2         0       1             0           -1  \n",
       "182337           31        1         4       1             0           -1  \n",
       "182338           25        2         0       1             0           -1  \n",
       "182339           82        0         0       2             0           -1  "
      ]
     },
     "execution_count": 7,
     "metadata": {},
     "output_type": "execute_result"
    }
   ],
   "source": [
    "orca.get_table('households').local.tail()"
   ]
  },
  {
   "cell_type": "markdown",
   "metadata": {},
   "source": [
    "## Jobs transition \n",
    "\n",
    "Introduce new households into the region to match control totals.\n",
    "\n",
    "Employment control totals are typically segmented by sector."
   ]
  },
  {
   "cell_type": "code",
   "execution_count": 8,
   "metadata": {},
   "outputs": [
    {
     "name": "stdout",
     "output_type": "stream",
     "text": [
      "Running iteration 1 with iteration value 2030\n",
      "Running step 'job_transition'\n",
      "Total agents before transition: 106648\n",
      "Total agents after transition: 154641\n",
      "Time to execute step 'job_transition': 0.15 s\n",
      "Total time to execute iteration 1 with iteration value 2030: 0.15 s\n"
     ]
    }
   ],
   "source": [
    "orca.run(['job_transition'], iter_vars=[2030])"
   ]
  },
  {
   "cell_type": "code",
   "execution_count": 9,
   "metadata": {},
   "outputs": [
    {
     "data": {
      "text/html": [
       "<div>\n",
       "<style scoped>\n",
       "    .dataframe tbody tr th:only-of-type {\n",
       "        vertical-align: middle;\n",
       "    }\n",
       "\n",
       "    .dataframe tbody tr th {\n",
       "        vertical-align: top;\n",
       "    }\n",
       "\n",
       "    .dataframe thead th {\n",
       "        text-align: right;\n",
       "    }\n",
       "</style>\n",
       "<table border=\"1\" class=\"dataframe\">\n",
       "  <thead>\n",
       "    <tr style=\"text-align: right;\">\n",
       "      <th></th>\n",
       "      <th>firm_id</th>\n",
       "      <th>sector_id</th>\n",
       "      <th>building_id</th>\n",
       "    </tr>\n",
       "  </thead>\n",
       "  <tbody>\n",
       "    <tr>\n",
       "      <th>178820</th>\n",
       "      <td>1396726</td>\n",
       "      <td>15</td>\n",
       "      <td>-1</td>\n",
       "    </tr>\n",
       "    <tr>\n",
       "      <th>178821</th>\n",
       "      <td>1402383</td>\n",
       "      <td>15</td>\n",
       "      <td>-1</td>\n",
       "    </tr>\n",
       "    <tr>\n",
       "      <th>178822</th>\n",
       "      <td>1398786</td>\n",
       "      <td>15</td>\n",
       "      <td>-1</td>\n",
       "    </tr>\n",
       "    <tr>\n",
       "      <th>178823</th>\n",
       "      <td>1392786</td>\n",
       "      <td>15</td>\n",
       "      <td>-1</td>\n",
       "    </tr>\n",
       "    <tr>\n",
       "      <th>178824</th>\n",
       "      <td>1403561</td>\n",
       "      <td>15</td>\n",
       "      <td>-1</td>\n",
       "    </tr>\n",
       "  </tbody>\n",
       "</table>\n",
       "</div>"
      ],
      "text/plain": [
       "        firm_id  sector_id  building_id\n",
       "178820  1396726         15           -1\n",
       "178821  1402383         15           -1\n",
       "178822  1398786         15           -1\n",
       "178823  1392786         15           -1\n",
       "178824  1403561         15           -1"
      ]
     },
     "execution_count": 9,
     "metadata": {},
     "output_type": "execute_result"
    }
   ],
   "source": [
    "orca.get_table('jobs').local.tail()"
   ]
  },
  {
   "cell_type": "code",
   "execution_count": 10,
   "metadata": {},
   "outputs": [],
   "source": [
    "##  Where's the relocation models??"
   ]
  },
  {
   "cell_type": "code",
   "execution_count": 11,
   "metadata": {},
   "outputs": [
    {
     "name": "stdout",
     "output_type": "stream",
     "text": [
      "Running step 'household_relocation_choice_model'\n",
      "Time to execute step 'household_relocation_choice_model': 0.05 s\n",
      "Total time to execute iteration 1 with iteration value None: 0.05 s\n"
     ]
    }
   ],
   "source": [
    "orca.run(['household_relocation_choice_model'])"
   ]
  },
  {
   "cell_type": "code",
   "execution_count": 12,
   "metadata": {},
   "outputs": [
    {
     "data": {
      "text/html": [
       "<div>\n",
       "<style scoped>\n",
       "    .dataframe tbody tr th:only-of-type {\n",
       "        vertical-align: middle;\n",
       "    }\n",
       "\n",
       "    .dataframe tbody tr th {\n",
       "        vertical-align: top;\n",
       "    }\n",
       "\n",
       "    .dataframe thead th {\n",
       "        text-align: right;\n",
       "    }\n",
       "</style>\n",
       "<table border=\"1\" class=\"dataframe\">\n",
       "  <thead>\n",
       "    <tr style=\"text-align: right;\">\n",
       "      <th></th>\n",
       "      <th>serialno</th>\n",
       "      <th>persons</th>\n",
       "      <th>cars</th>\n",
       "      <th>income</th>\n",
       "      <th>race_of_head</th>\n",
       "      <th>hispanic_head</th>\n",
       "      <th>age_of_head</th>\n",
       "      <th>workers</th>\n",
       "      <th>children</th>\n",
       "      <th>tenure</th>\n",
       "      <th>recent_mover</th>\n",
       "      <th>building_id</th>\n",
       "    </tr>\n",
       "  </thead>\n",
       "  <tbody>\n",
       "    <tr>\n",
       "      <th>182335</th>\n",
       "      <td>2013000141980</td>\n",
       "      <td>2</td>\n",
       "      <td>0</td>\n",
       "      <td>12600</td>\n",
       "      <td>1</td>\n",
       "      <td>0</td>\n",
       "      <td>62</td>\n",
       "      <td>0</td>\n",
       "      <td>0</td>\n",
       "      <td>1</td>\n",
       "      <td>0</td>\n",
       "      <td>-1</td>\n",
       "    </tr>\n",
       "    <tr>\n",
       "      <th>182336</th>\n",
       "      <td>2013001365107</td>\n",
       "      <td>2</td>\n",
       "      <td>3</td>\n",
       "      <td>71000</td>\n",
       "      <td>1</td>\n",
       "      <td>0</td>\n",
       "      <td>59</td>\n",
       "      <td>2</td>\n",
       "      <td>0</td>\n",
       "      <td>1</td>\n",
       "      <td>0</td>\n",
       "      <td>-1</td>\n",
       "    </tr>\n",
       "    <tr>\n",
       "      <th>182337</th>\n",
       "      <td>2010000484352</td>\n",
       "      <td>6</td>\n",
       "      <td>2</td>\n",
       "      <td>62800</td>\n",
       "      <td>1</td>\n",
       "      <td>0</td>\n",
       "      <td>31</td>\n",
       "      <td>1</td>\n",
       "      <td>4</td>\n",
       "      <td>1</td>\n",
       "      <td>0</td>\n",
       "      <td>-1</td>\n",
       "    </tr>\n",
       "    <tr>\n",
       "      <th>182338</th>\n",
       "      <td>2012000136905</td>\n",
       "      <td>2</td>\n",
       "      <td>2</td>\n",
       "      <td>36000</td>\n",
       "      <td>8</td>\n",
       "      <td>1</td>\n",
       "      <td>25</td>\n",
       "      <td>2</td>\n",
       "      <td>0</td>\n",
       "      <td>1</td>\n",
       "      <td>0</td>\n",
       "      <td>-1</td>\n",
       "    </tr>\n",
       "    <tr>\n",
       "      <th>182339</th>\n",
       "      <td>2013000079924</td>\n",
       "      <td>1</td>\n",
       "      <td>1</td>\n",
       "      <td>22000</td>\n",
       "      <td>8</td>\n",
       "      <td>0</td>\n",
       "      <td>82</td>\n",
       "      <td>0</td>\n",
       "      <td>0</td>\n",
       "      <td>2</td>\n",
       "      <td>0</td>\n",
       "      <td>-1</td>\n",
       "    </tr>\n",
       "  </tbody>\n",
       "</table>\n",
       "</div>"
      ],
      "text/plain": [
       "             serialno  persons  cars  income  race_of_head  hispanic_head  \\\n",
       "182335  2013000141980        2     0   12600             1              0   \n",
       "182336  2013001365107        2     3   71000             1              0   \n",
       "182337  2010000484352        6     2   62800             1              0   \n",
       "182338  2012000136905        2     2   36000             8              1   \n",
       "182339  2013000079924        1     1   22000             8              0   \n",
       "\n",
       "        age_of_head  workers  children  tenure  recent_mover  building_id  \n",
       "182335           62        0         0       1             0           -1  \n",
       "182336           59        2         0       1             0           -1  \n",
       "182337           31        1         4       1             0           -1  \n",
       "182338           25        2         0       1             0           -1  \n",
       "182339           82        0         0       2             0           -1  "
      ]
     },
     "execution_count": 12,
     "metadata": {},
     "output_type": "execute_result"
    }
   ],
   "source": [
    "orca.get_table('households').local.tail()"
   ]
  },
  {
   "cell_type": "code",
   "execution_count": 13,
   "metadata": {},
   "outputs": [
    {
     "data": {
      "text/plain": [
       "50608"
      ]
     },
     "execution_count": 13,
     "metadata": {},
     "output_type": "execute_result"
    }
   ],
   "source": [
    "len(orca.get_table('households').local.query('building_id == -1'))"
   ]
  },
  {
   "cell_type": "code",
   "execution_count": 15,
   "metadata": {},
   "outputs": [],
   "source": [
    "## Household tenure model"
   ]
  },
  {
   "cell_type": "code",
   "execution_count": 16,
   "metadata": {},
   "outputs": [
    {
     "data": {
      "text/plain": [
       "1    72425\n",
       "2    52774\n",
       "Name: tenure, dtype: int64"
      ]
     },
     "execution_count": 16,
     "metadata": {},
     "output_type": "execute_result"
    }
   ],
   "source": [
    "orca.get_table('households').tenure.value_counts()"
   ]
  },
  {
   "cell_type": "code",
   "execution_count": 17,
   "metadata": {},
   "outputs": [
    {
     "name": "stdout",
     "output_type": "stream",
     "text": [
      "Running step 'tenure_choice_model1'\n",
      "Time to execute step 'tenure_choice_model1': 0.11 s\n",
      "Running step 'tenure_choice_model2'\n",
      "Time to execute step 'tenure_choice_model2': 0.07 s\n",
      "Running step 'tenure_choice_model3'\n",
      "Time to execute step 'tenure_choice_model3': 0.08 s\n",
      "Total time to execute iteration 1 with iteration value None: 0.26 s\n"
     ]
    },
    {
     "name": "stderr",
     "output_type": "stream",
     "text": [
      "/home/janowicz/clients/lcog/lcog/lcog/variables.py:578: RuntimeWarning: invalid value encountered in log1p\n",
      "  return np.log1p(orca.get_table(table_name)[column_to_ln])\n"
     ]
    }
   ],
   "source": [
    "orca.run(['tenure_choice_model1','tenure_choice_model2','tenure_choice_model3'])"
   ]
  },
  {
   "cell_type": "code",
   "execution_count": 18,
   "metadata": {},
   "outputs": [
    {
     "data": {
      "text/plain": [
       "1    75636\n",
       "2    49563\n",
       "Name: tenure, dtype: int64"
      ]
     },
     "execution_count": 18,
     "metadata": {},
     "output_type": "execute_result"
    }
   ],
   "source": [
    "orca.get_table('households').tenure.value_counts()"
   ]
  },
  {
   "cell_type": "code",
   "execution_count": 19,
   "metadata": {},
   "outputs": [
    {
     "data": {
      "text/plain": [
       "50608"
      ]
     },
     "execution_count": 19,
     "metadata": {},
     "output_type": "execute_result"
    }
   ],
   "source": [
    "len(orca.get_table('households').local.query('building_id == -1'))"
   ]
  },
  {
   "cell_type": "code",
   "execution_count": 20,
   "metadata": {},
   "outputs": [
    {
     "name": "stdout",
     "output_type": "stream",
     "text": [
      "Running step 'hlcm1'\n",
      "Disaggregating prop_tenure_1 to buildings from parcels\n",
      "Calculating proportion tenure 1 for parcels\n",
      "Calculating number of households for parcels\n",
      "Disaggregating prop_hispanic_head_1 to buildings from zones\n",
      "Disaggregating zone_id to households from parcels\n",
      "Calculating proportion hispanic_head 1 for zones\n",
      "Calculating number of households for zones\n",
      "Disaggregating zone_id to buildings from parcels\n",
      "Disaggregating prop_income_quartile_1 to buildings from zones\n",
      "Calculating proportion income_quartile 1 for zones\n",
      "Disaggregating prop_sector_id_4 to buildings from zone_subdistricts\n",
      "Disaggregating zone_subdistrict_id to jobs from parcels\n",
      "Calculating proportion sector_id 4 for zone_subdistricts\n",
      "Calculating number of jobs for zone_subdistricts\n",
      "Disaggregating zone_subdistrict_id to buildings from parcels\n",
      "Disaggregating mean_residential_units to buildings from blocks\n",
      "Calculating mean_residential_units of buildings for blocks\n",
      "Disaggregating block_id to buildings from parcels\n",
      "Disaggregating total_jobs_5_am_peak_travel_time to buildings from zones\n",
      "Calculating number of jobs for zones\n",
      "Disaggregating zone_id to jobs from parcels\n"
     ]
    },
    {
     "name": "stderr",
     "output_type": "stream",
     "text": [
      "/home/janowicz/anaconda2/envs/template/lib/python3.6/site-packages/pandas/core/series.py:842: FutureWarning: \n",
      "Passing list-likes to .loc or [] with any missing label will raise\n",
      "KeyError in the future, you can use .reindex() as an alternative.\n",
      "\n",
      "See the documentation here:\n",
      "https://pandas.pydata.org/pandas-docs/stable/indexing.html#deprecate-loc-reindex-listlike\n",
      "  return self.loc[key]\n"
     ]
    },
    {
     "name": "stdout",
     "output_type": "stream",
     "text": [
      "Disaggregating mean_non_residential_sqft to buildings from locations\n",
      "Calculating mean_non_residential_sqft of buildings for locations\n",
      "Disaggregating location_id to buildings from parcels\n",
      "Iteration 1: 9998 of 14494 valid choices\n",
      "Iteration 2: 14115 of 14494 valid choices\n",
      "Iteration 3: 14491 of 14494 valid choices\n",
      "Iteration 4: 14494 of 14494 valid choices\n",
      "Time to execute step 'hlcm1': 1.15 s\n",
      "Running step 'hlcm2'\n",
      "Disaggregating prop_building_type_id_1110 to buildings from blocks\n",
      "Calculating proportion building_type_id 1110 for blocks\n",
      "Calculating number of buildings for blocks\n",
      "Disaggregating ratio_households_to_residential_units to buildings from parcels\n",
      "Calculating ratio of households to residential_units for parcels\n",
      "Calculating number of households for parcels\n",
      "Calculating sum_residential_units of buildings for parcels\n",
      "Iteration 1: 24829 of 36114 valid choices\n",
      "Iteration 2: 34812 of 36114 valid choices\n",
      "Iteration 3: 36080 of 36114 valid choices\n",
      "Iteration 4: 36113 of 36114 valid choices\n",
      "Iteration 5: 36114 of 36114 valid choices\n",
      "Time to execute step 'hlcm2': 1.12 s\n",
      "Total time to execute iteration 1 with iteration value None: 2.27 s\n"
     ]
    }
   ],
   "source": [
    "orca.run(['hlcm1', 'hlcm2'])"
   ]
  },
  {
   "cell_type": "code",
   "execution_count": 21,
   "metadata": {},
   "outputs": [
    {
     "data": {
      "text/plain": [
       "0"
      ]
     },
     "execution_count": 21,
     "metadata": {},
     "output_type": "execute_result"
    }
   ],
   "source": [
    "len(orca.get_table('households').local.query('building_id == -1'))"
   ]
  },
  {
   "cell_type": "code",
   "execution_count": 22,
   "metadata": {},
   "outputs": [
    {
     "data": {
      "text/plain": [
       "47993"
      ]
     },
     "execution_count": 22,
     "metadata": {},
     "output_type": "execute_result"
    }
   ],
   "source": [
    "len(orca.get_table('jobs').local.query('building_id == -1'))"
   ]
  },
  {
   "cell_type": "code",
   "execution_count": 23,
   "metadata": {},
   "outputs": [
    {
     "name": "stdout",
     "output_type": "stream",
     "text": [
      "Running step 'elcm1'\n",
      "Disaggregating density_buildings to buildings from blocks\n",
      "Calculating density of buildings for blocks\n",
      "Calculating number of buildings for blocks\n",
      "Disaggregating block_id to buildings from parcels\n",
      "Calculating sum_acres of parcels for blocks\n",
      "Disaggregating prop_repm_id_duplex_townhome to buildings from blocks\n"
     ]
    },
    {
     "name": "stderr",
     "output_type": "stream",
     "text": [
      "/home/janowicz/clients/lcog/lcog/lcog/variables.py:185: SettingWithCopyWarning: \n",
      "A value is trying to be set on a copy of a slice from a DataFrame\n",
      "\n",
      "See the caveats in the documentation: http://pandas.pydata.org/pandas-docs/stable/indexing.html#indexing-view-versus-copy\n",
      "  buildings.repm_id[buildings.building_type_id.isin(retail_btypes)] = 'retail'\n",
      "/home/janowicz/clients/lcog/lcog/lcog/variables.py:189: SettingWithCopyWarning: \n",
      "A value is trying to be set on a copy of a slice from a DataFrame\n",
      "\n",
      "See the caveats in the documentation: http://pandas.pydata.org/pandas-docs/stable/indexing.html#indexing-view-versus-copy\n",
      "  buildings.repm_id[buildings.building_type_id.isin(industrial_btypes)] = 'industrial'\n",
      "/home/janowicz/clients/lcog/lcog/lcog/variables.py:192: SettingWithCopyWarning: \n",
      "A value is trying to be set on a copy of a slice from a DataFrame\n",
      "\n",
      "See the caveats in the documentation: http://pandas.pydata.org/pandas-docs/stable/indexing.html#indexing-view-versus-copy\n",
      "  buildings.repm_id[buildings.building_type_id == 4100] = 'office'\n",
      "/home/janowicz/clients/lcog/lcog/lcog/variables.py:195: SettingWithCopyWarning: \n",
      "A value is trying to be set on a copy of a slice from a DataFrame\n",
      "\n",
      "See the caveats in the documentation: http://pandas.pydata.org/pandas-docs/stable/indexing.html#indexing-view-versus-copy\n",
      "  buildings.repm_id[buildings.building_type_id == 1110] = 'res_sf_detached'\n",
      "/home/janowicz/clients/lcog/lcog/lcog/variables.py:197: SettingWithCopyWarning: \n",
      "A value is trying to be set on a copy of a slice from a DataFrame\n",
      "\n",
      "See the caveats in the documentation: http://pandas.pydata.org/pandas-docs/stable/indexing.html#indexing-view-versus-copy\n",
      "  buildings.repm_id[buildings.building_type_id.isin(duplex_townhome_btypes)] = 'duplex_townhome'\n",
      "/home/janowicz/clients/lcog/lcog/lcog/variables.py:199: SettingWithCopyWarning: \n",
      "A value is trying to be set on a copy of a slice from a DataFrame\n",
      "\n",
      "See the caveats in the documentation: http://pandas.pydata.org/pandas-docs/stable/indexing.html#indexing-view-versus-copy\n",
      "  buildings.repm_id[buildings.building_type_id.isin(mf_btypes)] = 'multifamily'\n",
      "/home/janowicz/clients/lcog/lcog/lcog/variables.py:203: SettingWithCopyWarning: \n",
      "A value is trying to be set on a copy of a slice from a DataFrame\n",
      "\n",
      "See the caveats in the documentation: http://pandas.pydata.org/pandas-docs/stable/indexing.html#indexing-view-versus-copy\n",
      "  buildings.repm_id[buildings.building_type_id.isin(educ_btypes)] = 'educational'\n",
      "/home/janowicz/clients/lcog/lcog/lcog/variables.py:207: SettingWithCopyWarning: \n",
      "A value is trying to be set on a copy of a slice from a DataFrame\n",
      "\n",
      "See the caveats in the documentation: http://pandas.pydata.org/pandas-docs/stable/indexing.html#indexing-view-versus-copy\n",
      "  buildings.repm_id[buildings.building_type_id.isin(other_btypes)] = 'other'\n"
     ]
    },
    {
     "name": "stdout",
     "output_type": "stream",
     "text": [
      "Calculating proportion repm_id duplex_townhome for blocks\n",
      "Disaggregating acres to buildings from parcels\n",
      "Disaggregating total_households to buildings from parcels\n",
      "Calculating number of households for parcels\n",
      "Disaggregating prop_repm_id_res_sf_detached to buildings from blocks\n",
      "Calculating proportion repm_id res_sf_detached for blocks\n",
      "Iteration 1: 65 of 212 valid choices\n",
      "Iteration 2: 212 of 212 valid choices\n",
      "Time to execute step 'elcm1': 0.75 s\n",
      "Running step 'elcm2'\n",
      "Disaggregating density_jobs to buildings from parcels\n",
      "Calculating density of jobs for parcels\n",
      "Calculating number of jobs for parcels\n",
      "Disaggregating prop_building_type_id_1220 to buildings from parcels\n",
      "Calculating proportion building_type_id 1220 for parcels\n",
      "Calculating number of buildings for parcels\n",
      "Disaggregating prop_sector_id_2 to buildings from block_groups\n",
      "Disaggregating block_group_id to jobs from parcels\n",
      "Calculating proportion sector_id 2 for block_groups\n",
      "Calculating number of jobs for block_groups\n",
      "Disaggregating block_group_id to buildings from parcels\n",
      "Disaggregating prop_building_type_id_4200 to buildings from blocks\n",
      "Calculating proportion building_type_id 4200 for blocks\n",
      "Calculating number of buildings for blocks\n",
      "Disaggregating mean_income_ave_2000_flat to buildings from parcels\n",
      "Calculating mean_income of households for parcels\n",
      "Disaggregating total_jobs_5_md_offpeak_travel_time to buildings from zones\n",
      "Calculating number of jobs for zones\n",
      "Disaggregating zone_id to jobs from parcels\n"
     ]
    },
    {
     "name": "stderr",
     "output_type": "stream",
     "text": [
      "/home/janowicz/anaconda2/envs/template/lib/python3.6/site-packages/pandas/core/series.py:842: FutureWarning: \n",
      "Passing list-likes to .loc or [] with any missing label will raise\n",
      "KeyError in the future, you can use .reindex() as an alternative.\n",
      "\n",
      "See the documentation here:\n",
      "https://pandas.pydata.org/pandas-docs/stable/indexing.html#deprecate-loc-reindex-listlike\n",
      "  return self.loc[key]\n"
     ]
    },
    {
     "name": "stdout",
     "output_type": "stream",
     "text": [
      "Disaggregating zone_id to buildings from parcels\n",
      "Disaggregating density_households to buildings from blocks\n",
      "Calculating density of households for blocks\n",
      "Calculating number of households for blocks\n",
      "Disaggregating block_id to households from parcels\n",
      "Disaggregating mean_year_built to buildings from blocks\n",
      "Calculating mean_year_built of buildings for blocks\n",
      "Disaggregating sum_persons_5_md_offpeak_travel_time to buildings from zones\n",
      "Calculating sum_persons of households for zones\n",
      "Disaggregating zone_id to households from parcels\n",
      "Iteration 1: 592 of 771 valid choices\n",
      "Iteration 2: 771 of 771 valid choices\n",
      "Time to execute step 'elcm2': 1.32 s\n",
      "Running step 'elcm3'\n",
      "Disaggregating total_jobs_15_md_offpeak_travel_time to buildings from zones\n",
      "Calculating number of jobs for zones\n",
      "Disaggregating prop_building_type_id_5100 to buildings from parcels\n",
      "Calculating proportion building_type_id 5100 for parcels\n",
      "Calculating number of buildings for parcels\n",
      "Disaggregating mean_acres to buildings from blocks\n",
      "Calculating mean_acres of parcels for blocks\n",
      "Disaggregating mean_income_ave_3600_linear to buildings from parcels\n",
      "Disaggregating density_buildings to buildings from block_groups\n",
      "Calculating density of buildings for block_groups\n",
      "Calculating number of buildings for block_groups\n",
      "Calculating sum_acres of parcels for block_groups\n",
      "Disaggregating total_jobs to buildings from zones\n",
      "Disaggregating prop_building_type_id_1220 to buildings from block_groups\n",
      "Calculating proportion building_type_id 1220 for block_groups\n",
      "Disaggregating prop_sector_id_3 to buildings from blocks\n",
      "Disaggregating block_id to jobs from parcels\n",
      "Calculating proportion sector_id 3 for blocks\n",
      "Calculating number of jobs for blocks\n"
     ]
    },
    {
     "name": "stderr",
     "output_type": "stream",
     "text": [
      "/home/janowicz/anaconda2/envs/template/lib/python3.6/site-packages/pandas/core/generic.py:7441: RuntimeWarning: '<' not supported between instances of 'int' and 'str', sort order is undefined for incomparable objects\n",
      "  return_indexers=True)\n"
     ]
    },
    {
     "name": "stdout",
     "output_type": "stream",
     "text": [
      "Iteration 1: 1010 of 2148 valid choices\n",
      "Iteration 2: 2120 of 2148 valid choices\n",
      "Iteration 3: 2148 of 2148 valid choices\n",
      "Time to execute step 'elcm3': 1.62 s\n",
      "Running step 'elcm4'\n",
      "Disaggregating prop_sector_id_4 to buildings from blocks\n",
      "Calculating proportion sector_id 4 for blocks\n",
      "Calculating number of jobs for blocks\n",
      "Disaggregating sum_children_ave_4400_flat to buildings from parcels\n",
      "Calculating sum_children of households for parcels\n",
      "Disaggregating mean_year_built to buildings from block_groups\n",
      "Calculating mean_year_built of buildings for block_groups\n",
      "Disaggregating prop_building_type_id_5100 to buildings from blocks\n",
      "Calculating proportion building_type_id 5100 for blocks\n",
      "Calculating number of buildings for blocks\n",
      "Iteration 1: 2152 of 3899 valid choices\n",
      "Iteration 2: 3843 of 3899 valid choices\n",
      "Iteration 3: 3899 of 3899 valid choices\n",
      "Time to execute step 'elcm4': 1.93 s\n",
      "Running step 'elcm5'\n",
      "Disaggregating mean_non_residential_sqft_ave_400_flat to buildings from parcels\n",
      "Calculating mean_non_residential_sqft of buildings for parcels\n",
      "Disaggregating ratio_jobs_to_households to buildings from parcels\n",
      "Calculating ratio of jobs to households for parcels\n",
      "Calculating number of jobs for parcels\n",
      "Calculating number of households for parcels\n",
      "Disaggregating prop_sector_id_6 to buildings from blocks\n",
      "Calculating proportion sector_id 6 for blocks\n",
      "Calculating number of jobs for blocks\n",
      "Disaggregating prop_sector_id_11 to buildings from blocks\n",
      "Calculating proportion sector_id 11 for blocks\n",
      "Iteration 1: 1505 of 2609 valid choices\n",
      "Iteration 2: 2594 of 2609 valid choices\n",
      "Iteration 3: 2609 of 2609 valid choices\n",
      "Time to execute step 'elcm5': 0.42 s\n",
      "Running step 'elcm6'\n",
      "Disaggregating total_jobs_15_am_peak_travel_time to buildings from zones\n",
      "Calculating number of jobs for zones\n",
      "Disaggregating prop_building_type_id_4200 to buildings from zones\n",
      "Calculating proportion building_type_id 4200 for zones\n",
      "Calculating number of buildings for zones\n",
      "Iteration 1: 1995 of 2556 valid choices\n",
      "Iteration 2: 2554 of 2556 valid choices\n",
      "Iteration 3: 2556 of 2556 valid choices\n",
      "Time to execute step 'elcm6': 0.44 s\n",
      "Running step 'elcm7'\n",
      "Disaggregating mean_year_built to buildings from parcels\n",
      "Calculating mean_year_built of buildings for parcels\n",
      "Disaggregating prop_building_type_id_4100 to buildings from parcels\n",
      "Calculating proportion building_type_id 4100 for parcels\n",
      "Calculating number of buildings for parcels\n",
      "Iteration 1: 4236 of 8177 valid choices\n",
      "Iteration 2: 8134 of 8177 valid choices\n",
      "Iteration 3: 8177 of 8177 valid choices\n",
      "Time to execute step 'elcm7': 0.30 s\n",
      "Running step 'elcm8'\n",
      "Disaggregating total_jobs_sum_400_linear to buildings from parcels\n",
      "Calculating number of jobs for parcels\n",
      "Disaggregating prop_sector_id_8 to buildings from block_groups\n",
      "Calculating proportion sector_id 8 for block_groups\n",
      "Calculating number of jobs for block_groups\n",
      "Disaggregating mean_income_ave_3600_flat to buildings from parcels\n",
      "Disaggregating prop_building_type_id_5100 to buildings from zones\n",
      "Calculating proportion building_type_id 5100 for zones\n",
      "Calculating number of buildings for zones\n",
      "Iteration 1: 5281 of 8348 valid choices\n",
      "Iteration 2: 8158 of 8348 valid choices\n",
      "Iteration 3: 8348 of 8348 valid choices\n",
      "Time to execute step 'elcm8': 1.60 s\n",
      "Running step 'elcm9'\n",
      "Disaggregating median_non_residential_sqft to buildings from zones\n",
      "Calculating median_non_residential_sqft of buildings for zones\n",
      "Disaggregating sum_persons_ave_400_linear to buildings from parcels\n",
      "Calculating sum_persons of households for parcels\n",
      "Disaggregating total_jobs_sum_2000_linear to buildings from parcels\n",
      "Calculating number of jobs for parcels\n",
      "Disaggregating prop_repm_id_industrial to buildings from blocks\n",
      "Calculating proportion repm_id industrial for blocks\n",
      "Calculating number of buildings for blocks\n",
      "Disaggregating median_acres to buildings from blocks\n",
      "Calculating median_acres of parcels for blocks\n",
      "Iteration 1: 442 of 808 valid choices\n",
      "Iteration 2: 808 of 808 valid choices\n",
      "Time to execute step 'elcm9': 0.75 s\n",
      "Running step 'elcm10'\n",
      "Disaggregating total_jobs_10_md_offpeak_travel_time to buildings from zones\n",
      "Calculating number of jobs for zones\n",
      "Disaggregating prop_building_type_id_1220 to buildings from zone_subdistricts\n",
      "Disaggregating zone_subdistrict_id to buildings from parcels\n",
      "Calculating proportion building_type_id 1220 for zone_subdistricts\n",
      "Calculating number of buildings for zone_subdistricts\n",
      "Disaggregating mean_non_residential_sqft to buildings from parcels\n",
      "Disaggregating mean_income_ave_1200_linear to buildings from parcels\n",
      "Disaggregating total_jobs to buildings from blocks\n",
      "Calculating number of jobs for blocks\n",
      "Iteration 1: 1167 of 1776 valid choices\n",
      "Iteration 2: 1775 of 1776 valid choices\n",
      "Iteration 3: 1776 of 1776 valid choices\n",
      "Time to execute step 'elcm10': 0.68 s\n",
      "Running step 'elcm11'\n",
      "Disaggregating density_households to buildings from block_groups\n",
      "Calculating density of households for block_groups\n",
      "Calculating number of households for block_groups\n",
      "Disaggregating block_group_id to households from parcels\n",
      "Disaggregating prop_repm_id_retail to buildings from zones\n",
      "Calculating proportion repm_id retail for zones\n",
      "Calculating number of buildings for zones\n",
      "Disaggregating sum_persons_10_am_peak_travel_time to buildings from zones\n",
      "Disaggregating prop_sector_id_11 to buildings from parcels\n",
      "Calculating proportion sector_id 11 for parcels\n",
      "Calculating number of jobs for parcels\n",
      "Disaggregating prop_repm_id_office to buildings from blocks\n",
      "Calculating proportion repm_id office for blocks\n",
      "Calculating number of buildings for blocks\n",
      "Iteration 1: 3447 of 6943 valid choices\n",
      "Iteration 2: 6777 of 6943 valid choices\n",
      "Iteration 3: 6943 of 6943 valid choices\n",
      "Time to execute step 'elcm11': 0.74 s\n",
      "Running step 'elcm12'\n",
      "Disaggregating prop_sector_id_5 to buildings from zones\n",
      "Calculating proportion sector_id 5 for zones\n",
      "Calculating number of jobs for zones\n",
      "Disaggregating prop_sector_id_12 to buildings from zones\n",
      "Calculating proportion sector_id 12 for zones\n",
      "Disaggregating prop_repm_id_multifamily to buildings from block_groups\n",
      "Calculating proportion repm_id multifamily for block_groups\n",
      "Calculating number of buildings for block_groups\n",
      "Iteration 1: 4251 of 5522 valid choices\n",
      "Iteration 2: 5521 of 5522 valid choices\n",
      "Iteration 3: 5522 of 5522 valid choices\n",
      "Time to execute step 'elcm12': 0.27 s\n",
      "Running step 'elcm13'\n",
      "Disaggregating prop_sector_id_13 to buildings from zones\n",
      "Calculating proportion sector_id 13 for zones\n",
      "Calculating number of jobs for zones\n",
      "Iteration 1: 1137 of 1907 valid choices\n",
      "Iteration 2: 1882 of 1907 valid choices\n",
      "Iteration 3: 1907 of 1907 valid choices\n",
      "Time to execute step 'elcm13': 0.16 s\n",
      "Running step 'elcm14'\n",
      "Disaggregating prop_building_type_id_1122 to buildings from zone_subdistricts\n",
      "Calculating proportion building_type_id 1122 for zone_subdistricts\n",
      "Calculating number of buildings for zone_subdistricts\n",
      "Iteration 1: 1775 of 2305 valid choices\n",
      "Iteration 2: 2304 of 2305 valid choices\n",
      "Iteration 3: 2305 of 2305 valid choices\n",
      "Time to execute step 'elcm14': 0.15 s\n",
      "Total time to execute iteration 1 with iteration value None: 11.13 s\n"
     ]
    }
   ],
   "source": [
    "orca.run(['elcm1', 'elcm2', 'elcm3', 'elcm4', 'elcm5', 'elcm6',\n",
    "   'elcm7', 'elcm8', 'elcm9', 'elcm10', 'elcm11', 'elcm12',\n",
    "   'elcm13', 'elcm14'])"
   ]
  },
  {
   "cell_type": "code",
   "execution_count": 24,
   "metadata": {},
   "outputs": [
    {
     "data": {
      "text/plain": [
       "12"
      ]
     },
     "execution_count": 24,
     "metadata": {},
     "output_type": "execute_result"
    }
   ],
   "source": [
    "len(orca.get_table('jobs').local.query('building_id == -1'))"
   ]
  },
  {
   "cell_type": "code",
   "execution_count": 25,
   "metadata": {},
   "outputs": [
    {
     "name": "stdout",
     "output_type": "stream",
     "text": [
      "Running step 'repm_sf_detached'\n",
      "Disaggregating density_buildings to buildings from blocks\n",
      "Calculating density of buildings for blocks\n",
      "Calculating number of buildings for blocks\n",
      "Disaggregating block_id to buildings from parcels\n",
      "Calculating sum_acres of parcels for blocks\n",
      "Disaggregating prop_building_type_id_5100 to buildings from zones\n",
      "Disaggregating zone_id to buildings from parcels\n",
      "Calculating proportion building_type_id 5100 for zones\n",
      "Calculating number of buildings for zones\n",
      "Disaggregating prop_building_type_id_1220 to buildings from zone_subdistricts\n",
      "Disaggregating zone_subdistrict_id to buildings from parcels\n",
      "Calculating proportion building_type_id 1220 for zone_subdistricts\n",
      "Calculating number of buildings for zone_subdistricts\n",
      "Disaggregating prop_income_quartile_4 to buildings from block_groups\n",
      "Disaggregating block_group_id to households from parcels\n",
      "Calculating proportion income_quartile 4 for block_groups\n",
      "Calculating number of households for block_groups\n",
      "Disaggregating block_group_id to buildings from parcels\n",
      "Disaggregating sum_persons_25_md_offpeak_travel_time to buildings from zones\n",
      "Calculating sum_persons of households for zones\n",
      "Disaggregating zone_id to households from parcels\n"
     ]
    },
    {
     "name": "stderr",
     "output_type": "stream",
     "text": [
      "/home/janowicz/anaconda2/envs/template/lib/python3.6/site-packages/pandas/core/series.py:842: FutureWarning: \n",
      "Passing list-likes to .loc or [] with any missing label will raise\n",
      "KeyError in the future, you can use .reindex() as an alternative.\n",
      "\n",
      "See the documentation here:\n",
      "https://pandas.pydata.org/pandas-docs/stable/indexing.html#deprecate-loc-reindex-listlike\n",
      "  return self.loc[key]\n"
     ]
    },
    {
     "name": "stdout",
     "output_type": "stream",
     "text": [
      "Disaggregating mean_income_ave_4400_linear to buildings from parcels\n",
      "Calculating mean_income of households for parcels\n",
      "Disaggregating prop_sector_id_2 to buildings from zones\n",
      "Disaggregating zone_id to jobs from parcels\n",
      "Calculating proportion sector_id 2 for zones\n",
      "Calculating number of jobs for zones\n",
      "Disaggregating sum_residential_units to buildings from zones\n",
      "Calculating sum_residential_units of buildings for zones\n",
      "Disaggregating sum_non_residential_sqft to buildings from zone_subdistricts\n",
      "Calculating sum_non_residential_sqft of buildings for zone_subdistricts\n",
      "Disaggregating total_jobs to buildings from block_groups\n",
      "Calculating number of jobs for block_groups\n",
      "Disaggregating block_group_id to jobs from parcels\n",
      "Disaggregating mean_age_of_head_ave_2800_flat to buildings from parcels\n",
      "Calculating mean_age_of_head of households for parcels\n",
      "Disaggregating total_jobs_10_am_peak_travel_time to buildings from zones\n",
      "Time to execute step 'repm_sf_detached': 2.95 s\n",
      "Running step 'repm_duplex_townhome'\n",
      "Disaggregating density_households to buildings from blocks\n",
      "Calculating density of households for blocks\n",
      "Calculating number of households for blocks\n",
      "Disaggregating block_id to households from parcels\n",
      "Disaggregating prop_income_quartile_4 to buildings from zones\n",
      "Calculating proportion income_quartile 4 for zones\n",
      "Calculating number of households for zones\n",
      "Disaggregating prop_sector_id_3 to buildings from zones\n",
      "Calculating proportion sector_id 3 for zones\n",
      "Calculating number of jobs for zones\n",
      "Disaggregating total_jobs to buildings from blocks\n",
      "Calculating number of jobs for blocks\n",
      "Disaggregating block_id to jobs from parcels\n",
      "Disaggregating sum_residential_units to buildings from zone_districts\n",
      "Calculating sum_residential_units of buildings for zone_districts\n",
      "Disaggregating zone_district_id to buildings from parcels\n",
      "Disaggregating prop_building_type_id_5100 to buildings from zone_subdistricts\n",
      "Calculating proportion building_type_id 5100 for zone_subdistricts\n",
      "Calculating number of buildings for zone_subdistricts\n",
      "Disaggregating sum_persons_5_am_peak_travel_time to buildings from zones\n",
      "Disaggregating total_jobs_sum_1200_linear to buildings from parcels\n",
      "Calculating number of jobs for parcels\n",
      "Disaggregating mean_age_of_head_ave_3600_linear to buildings from parcels\n",
      "Time to execute step 'repm_duplex_townhome': 1.48 s\n",
      "Running step 'repm_multifamily'\n",
      "Disaggregating mean_children_ave_3600_flat to buildings from parcels\n",
      "Calculating mean_children of households for parcels\n",
      "Disaggregating prop_sector_id_11 to buildings from blocks\n",
      "Calculating proportion sector_id 11 for blocks\n",
      "Calculating number of jobs for blocks\n",
      "Disaggregating prop_building_type_id_1220 to buildings from blocks\n",
      "Calculating proportion building_type_id 1220 for blocks\n",
      "Calculating number of buildings for blocks\n",
      "Disaggregating mean_non_residential_sqft to buildings from zone_subdistricts\n",
      "Calculating mean_non_residential_sqft of buildings for zone_subdistricts\n",
      "Disaggregating total_jobs_25_am_peak_travel_time to buildings from zones\n",
      "Calculating number of jobs for zones\n",
      "Time to execute step 'repm_multifamily': 1.81 s\n",
      "Running step 'repm_industrial'\n",
      "Disaggregating prop_building_type_id_5100 to buildings from parcels\n",
      "Calculating proportion building_type_id 5100 for parcels\n",
      "Calculating number of buildings for parcels\n",
      "Disaggregating mean_non_residential_sqft to buildings from locations\n",
      "Calculating mean_non_residential_sqft of buildings for locations\n",
      "Disaggregating location_id to buildings from parcels\n",
      "Disaggregating prop_sector_id_11 to buildings from block_groups\n",
      "Calculating proportion sector_id 11 for block_groups\n",
      "Calculating number of jobs for block_groups\n",
      "Disaggregating prop_building_type_id_1220 to buildings from locations\n",
      "Calculating proportion building_type_id 1220 for locations\n",
      "Calculating number of buildings for locations\n",
      "Disaggregating total_jobs_5_md_offpeak_travel_time to buildings from zones\n",
      "Calculating number of jobs for zones\n",
      "Disaggregating ratio_jobs_to_households to buildings from block_groups\n",
      "Calculating ratio of jobs to households for block_groups\n",
      "Calculating number of households for block_groups\n",
      "Disaggregating mean_acres to buildings from block_groups\n",
      "Calculating mean_acres of parcels for block_groups\n",
      "Time to execute step 'repm_industrial': 0.33 s\n",
      "Running step 'repm_retail'\n",
      "Disaggregating prop_building_type_id_5100 to buildings from zone_districts\n",
      "Calculating proportion building_type_id 5100 for zone_districts\n",
      "Calculating number of buildings for zone_districts\n",
      "Disaggregating density_jobs to buildings from parcels\n",
      "Calculating density of jobs for parcels\n",
      "Calculating number of jobs for parcels\n",
      "Disaggregating mean_non_residential_sqft to buildings from zones\n",
      "Calculating mean_non_residential_sqft of buildings for zones\n",
      "Disaggregating prop_sector_id_5 to buildings from blocks\n",
      "Calculating proportion sector_id 5 for blocks\n",
      "Calculating number of jobs for blocks\n",
      "Time to execute step 'repm_retail': 0.14 s\n",
      "Running step 'repm_office'\n",
      "Disaggregating prop_building_type_id_5100 to buildings from blocks\n",
      "Calculating proportion building_type_id 5100 for blocks\n",
      "Calculating number of buildings for blocks\n",
      "Disaggregating median_acres to buildings from blocks\n",
      "Calculating median_acres of parcels for blocks\n",
      "Disaggregating prop_sector_id_13 to buildings from blocks\n",
      "Calculating proportion sector_id 13 for blocks\n",
      "Calculating number of jobs for blocks\n",
      "Disaggregating total_jobs_25_md_offpeak_travel_time to buildings from zones\n",
      "Calculating number of jobs for zones\n",
      "Disaggregating mean_income_ave_2800_linear to buildings from parcels\n",
      "Time to execute step 'repm_office': 1.03 s\n",
      "Total time to execute iteration 1 with iteration value None: 7.75 s\n"
     ]
    }
   ],
   "source": [
    "orca.run(['repm_sf_detached', 'repm_duplex_townhome', 'repm_multifamily',\n",
    "                    'repm_industrial', 'repm_retail', 'repm_office'])"
   ]
  },
  {
   "cell_type": "code",
   "execution_count": 26,
   "metadata": {},
   "outputs": [
    {
     "name": "stdout",
     "output_type": "stream",
     "text": [
      "Running step 'feasibility'\n",
      "Disaggregating pred_retail_price_ave_800_linear to site_proposals from parcels\n",
      "Calculating mean_pred_retail_price of buildings for parcels\n",
      "Disaggregating pred_industrial_price_ave_800_linear to site_proposals from parcels\n",
      "Calculating mean_pred_industrial_price of buildings for parcels\n",
      "Disaggregating pred_office_price_ave_800_linear to site_proposals from parcels\n",
      "Calculating mean_pred_office_price of buildings for parcels\n",
      "Disaggregating pred_duplex_townhome_price_ave_800_linear to site_proposals from parcels\n",
      "Calculating mean_pred_duplex_townhome_price of buildings for parcels\n",
      "Disaggregating pred_sf_detached_price_ave_800_linear to site_proposals from parcels\n",
      "Calculating mean_pred_sf_detached_price of buildings for parcels\n",
      "Disaggregating pred_multifamily_price_ave_800_linear to site_proposals from parcels\n",
      "Calculating mean_pred_multifamily_price of buildings for parcels\n",
      "Disaggregating mean_sqft_per_unit_ave_800_linear to site_proposals from parcels\n",
      "Calculating mean_sqft_per_unit of buildings for parcels\n",
      "Disaggregating developable_sqft to site_proposals from parcels\n",
      "Disaggregating total_yearly_rent to site_proposals from parcels\n",
      "Calculating sum_non_residential_sqft of buildings for parcels\n",
      "Calculating sum_residential_units of buildings for parcels\n",
      "Computing feasibility for form industrial\n"
     ]
    },
    {
     "name": "stderr",
     "output_type": "stream",
     "text": [
      "/home/janowicz/udst/developer/developer/sqftproforma.py:727: RuntimeWarning: invalid value encountered in greater\n",
      "  mask *= np.nan_to_num(heights) > df.max_height.values + .01\n",
      "/home/janowicz/anaconda2/envs/template/lib/python3.6/site-packages/pandas/core/frame.py:3781: SettingWithCopyWarning: \n",
      "A value is trying to be set on a copy of a slice from a DataFrame\n",
      "\n",
      "See the caveats in the documentation: http://pandas.pydata.org/pandas-docs/stable/indexing.html#indexing-view-versus-copy\n",
      "  return super(DataFrame, self).rename(**kwargs)\n",
      "/home/janowicz/anaconda2/envs/template/lib/python3.6/site-packages/pandas/core/indexing.py:543: SettingWithCopyWarning: \n",
      "A value is trying to be set on a copy of a slice from a DataFrame.\n",
      "Try using .loc[row_indexer,col_indexer] = value instead\n",
      "\n",
      "See the caveats in the documentation: http://pandas.pydata.org/pandas-docs/stable/indexing.html#indexing-view-versus-copy\n",
      "  self.obj[item] = s\n"
     ]
    },
    {
     "name": "stdout",
     "output_type": "stream",
     "text": [
      "Computing feasibility for form office\n",
      "Computing feasibility for form residential\n",
      "Computing feasibility for form retail\n",
      "Computing feasibility for form residential_office\n",
      "Computing feasibility for form retail_office\n",
      "Computing feasibility for form residential_retail\n",
      "Computing feasibility for form mix_non_residential\n",
      "Computing feasibility for form mix_all\n",
      "Time to execute step 'feasibility': 64.06 s\n",
      "Running step 'residential_developer'\n",
      "Number of agents: 125,199\n",
      "Number of agent spaces: 162,629.7412675584\n",
      "Current average vacancy = 0.23\n",
      "Target average vacancy = 0.50, target of new units = 86,318.55360423651\n",
      "306,144 feasible buildings before running developer\n",
      "Sum of net units that are profitable: 1,599,446\n"
     ]
    },
    {
     "name": "stderr",
     "output_type": "stream",
     "text": [
      "/home/janowicz/clients/lcog/lcog/lcog/models.py:684: FutureWarning: get_value is deprecated and will be removed in a future release. Please use .at[] or .iat[] accessors instead\n",
      "  target_units_btype = target_units.loc[btype].get_value('target_units')\n"
     ]
    },
    {
     "name": "stdout",
     "output_type": "stream",
     "text": [
      "Adding 2,069 buildings with 29,558 residential_units\n",
      "306,144 feasible buildings after running developer\n",
      "Unplaced households before: 0\n",
      "Unplaced households after: 2910\n",
      "Unplaced jobs before: 12\n",
      "Unplaced jobs after: 8622\n",
      "Time to execute step 'residential_developer': 1.58 s\n",
      "Running step 'non_residential_developer'\n",
      "Calculating sum_job_spaces of buildings for parcels\n",
      "Number of agents: 154,641\n",
      "Number of agent spaces: 119,606\n",
      "Current average vacancy = -0.29\n",
      "Target average vacancy = 0.33, target of new units = 111,648.291523179\n",
      "306,144 feasible buildings before running developer\n"
     ]
    },
    {
     "name": "stderr",
     "output_type": "stream",
     "text": [
      "/home/janowicz/udst/urbansim_parcels/urbansim_parcels/utils.py:997: FutureWarning: Sorting because non-concatenation axis is not aligned. A future version\n",
      "of pandas will change to not sort by default.\n",
      "\n",
      "To accept the future behavior, pass 'sort=False'.\n",
      "\n",
      "To retain the current behavior and silence the warning, pass 'sort=True'.\n",
      "\n",
      "  concat_df = pd.concat([old_df, new_df], verify_integrity=True)\n"
     ]
    },
    {
     "name": "stdout",
     "output_type": "stream",
     "text": [
      "Sum of net units that are profitable: 5,712,212\n",
      "Adding 827 buildings with 61,909 job_spaces\n",
      "306,144 feasible buildings after running developer\n",
      "Unplaced households before: 2910\n",
      "Unplaced households after: 3727\n",
      "Unplaced jobs before: 8622\n",
      "Unplaced jobs after: 17180\n",
      "Time to execute step 'non_residential_developer': 1.34 s\n",
      "Total time to execute iteration 1 with iteration value None: 66.99 s\n"
     ]
    },
    {
     "name": "stderr",
     "output_type": "stream",
     "text": [
      "/home/janowicz/udst/urbansim_parcels/urbansim_parcels/utils.py:800: FutureWarning: Sorting because non-concatenation axis is not aligned. A future version\n",
      "of pandas will change to not sort by default.\n",
      "\n",
      "To accept the future behavior, pass 'sort=False'.\n",
      "\n",
      "To retain the current behavior and silence the warning, pass 'sort=True'.\n",
      "\n",
      "  pd.concat([drop_buildings, prev_drops]))\n"
     ]
    }
   ],
   "source": [
    "orca.run(['feasibility', 'residential_developer', 'non_residential_developer'])"
   ]
  },
  {
   "cell_type": "code",
   "execution_count": 35,
   "metadata": {},
   "outputs": [
    {
     "name": "stderr",
     "output_type": "stream",
     "text": [
      "/home/janowicz/anaconda2/envs/template/lib/python3.6/site-packages/ipykernel/__main__.py:2: SettingWithCopyWarning: \n",
      "A value is trying to be set on a copy of a slice from a DataFrame.\n",
      "Try using .loc[row_indexer,col_indexer] = value instead\n",
      "\n",
      "See the caveats in the documentation: http://pandas.pydata.org/pandas-docs/stable/indexing.html#indexing-view-versus-copy\n",
      "  from ipykernel import kernelapp as app\n",
      "/home/janowicz/anaconda2/envs/template/lib/python3.6/site-packages/ipykernel/__main__.py:3: SettingWithCopyWarning: \n",
      "A value is trying to be set on a copy of a slice from a DataFrame.\n",
      "Try using .loc[row_indexer,col_indexer] = value instead\n",
      "\n",
      "See the caveats in the documentation: http://pandas.pydata.org/pandas-docs/stable/indexing.html#indexing-view-versus-copy\n",
      "  app.launch_new_instance()\n"
     ]
    }
   ],
   "source": [
    "feas = orca.get_table('feasibility').local.query('form==\"residential\"')  ## Summarize residential by zone_district_id\n",
    "feas['zone_district_id'] = orca.get_table('parcels').zone_district_id\n",
    "feas['zone_id'] = orca.get_table('parcels').zone_id"
   ]
  },
  {
   "cell_type": "code",
   "execution_count": 37,
   "metadata": {},
   "outputs": [
    {
     "name": "stderr",
     "output_type": "stream",
     "text": [
      "/home/janowicz/anaconda2/envs/template/lib/python3.6/site-packages/ipykernel/__main__.py:1: SettingWithCopyWarning: \n",
      "A value is trying to be set on a copy of a slice from a DataFrame.\n",
      "Try using .loc[row_indexer,col_indexer] = value instead\n",
      "\n",
      "See the caveats in the documentation: http://pandas.pydata.org/pandas-docs/stable/indexing.html#indexing-view-versus-copy\n",
      "  if __name__ == '__main__':\n"
     ]
    },
    {
     "data": {
      "text/plain": [
       "zone_district_id\n",
       "1     1162.266417\n",
       "2      904.732597\n",
       "3      980.590766\n",
       "4     1068.452890\n",
       "5      977.341787\n",
       "6      854.888281\n",
       "10     977.022563\n",
       "Name: profit_per_sqft, dtype: float64"
      ]
     },
     "execution_count": 37,
     "metadata": {},
     "output_type": "execute_result"
    }
   ],
   "source": [
    "feas['profit_per_sqft'] = feas.max_profit / feas.residential_sqft\n",
    "feas.groupby('zone_district_id').profit_per_sqft.mean()"
   ]
  },
  {
   "cell_type": "code",
   "execution_count": null,
   "metadata": {},
   "outputs": [],
   "source": [
    "## Try with residential REPM (craigslist), and then re-plot profitability surface"
   ]
  },
  {
   "cell_type": "code",
   "execution_count": 43,
   "metadata": {},
   "outputs": [],
   "source": [
    "import geopandas as gpd\n",
    "zone_geoms = gpd.read_file('data/zones/zones.geojson').set_index('zone_id')\n",
    "zone_geoms['mean_profit_sqft'] = feas.groupby('zone_id').profit_per_sqft.mean()\n",
    "zone_geoms['mean_profit_sqft'] = zone_geoms['mean_profit_sqft'].fillna(0)"
   ]
  },
  {
   "cell_type": "code",
   "execution_count": 44,
   "metadata": {},
   "outputs": [
    {
     "name": "stderr",
     "output_type": "stream",
     "text": [
      "/home/janowicz/anaconda2/envs/template/lib/python3.6/site-packages/scipy/stats/stats.py:1713: FutureWarning: Using a non-tuple sequence for multidimensional indexing is deprecated; use `arr[tuple(seq)]` instead of `arr[seq]`. In the future this will be interpreted as an array index, `arr[np.array(seq)]`, which will result either in an error or a different result.\n",
      "  return np.add.reduce(sorted[indexer] * weights, axis=axis) / sumval\n"
     ]
    },
    {
     "data": {
      "image/png": "[encoded data removed]",
      "text/plain": [
       "<Figure size 720x576 with 1 Axes>"
      ]
     },
     "metadata": {},
     "output_type": "display_data"
    }
   ],
   "source": [
    "%matplotlib inline\n",
    "import matplotlib.pyplot as plt\n",
    "\n",
    "f = plt.figure(figsize=(10, 8))\n",
    "ax = f.gca()\n",
    "kw = dict(column='mean_profit_sqft', k=6, cmap='YlGn', alpha=1, legend=True, edgecolor='gray', linewidth=0.3)\n",
    "zone_geoms.plot(scheme='Quantiles', ax=ax, **kw)\n",
    "ax.set_axis_off()"
   ]
  },
  {
   "cell_type": "code",
   "execution_count": 28,
   "metadata": {},
   "outputs": [
    {
     "name": "stdout",
     "output_type": "stream",
     "text": [
      "Running step 'generate_indicators'\n",
      "Calculating sum_non_residential_sqft of buildings for parcels\n",
      "Calculating sum_non_residential_sqft of buildings for zones\n",
      "Disaggregating zone_id to buildings from parcels\n",
      "Calculating number of jobs for zones\n",
      "Disaggregating zone_id to jobs from parcels\n",
      "Calculating number of households for zones\n",
      "Disaggregating zone_id to households from parcels\n",
      "Calculating sum_residential_units of buildings for zones\n",
      "Calculating sum_job_spaces of buildings for zones\n",
      "Calculating sum_residential_units of buildings for parcels\n",
      "Calculating number of households for parcels\n",
      "Calculating density of jobs for parcels\n",
      "Calculating number of jobs for parcels\n",
      "Calculating mean_income of households for parcels\n",
      "Calculating density of buildings for parcels\n",
      "Calculating number of buildings for parcels\n",
      "Calculating density of households for parcels\n",
      "Time to execute step 'generate_indicators': 13.16 s\n",
      "Total time to execute iteration 1 with iteration value None: 13.16 s\n"
     ]
    }
   ],
   "source": [
    "orca.add_injectable('forecast_year', 2011)\n",
    "orca.run(['generate_indicators'])"
   ]
  },
  {
   "cell_type": "code",
   "execution_count": null,
   "metadata": {},
   "outputs": [],
   "source": []
  }
 ],
 "metadata": {
  "kernelspec": {
   "display_name": "Python [conda env:template]",
   "language": "python",
   "name": "conda-env-template-py"
  },
  "language_info": {
   "codemirror_mode": {
    "name": "ipython",
    "version": 3
   },
   "file_extension": ".py",
   "mimetype": "text/x-python",
   "name": "python",
   "nbconvert_exporter": "python",
   "pygments_lexer": "ipython3",
   "version": "3.6.6"
  }
 },
 "nbformat": 4,
 "nbformat_minor": 2
}
