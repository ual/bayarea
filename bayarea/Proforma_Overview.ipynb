{
 "cells": [
  {
   "cell_type": "code",
   "execution_count": 1,
   "metadata": {},
   "outputs": [],
   "source": [
    "%%capture\n",
    "\n",
    "import pandas as pd\n",
    "import orca\n",
    "import warnings; warnings.filterwarnings(\"ignore\")\n",
    "\n",
    "from lcog import datasources\n",
    "from lcog import variables\n",
    "from lcog import models\n",
    "\n",
    "orca.run(['build_networks'])\n",
    "\n",
    "import matplotlib.pyplot as plt\n",
    "%matplotlib notebook\n",
    "%matplotlib inline\n",
    "\n",
    "from bokeh.io import output_notebook, show\n",
    "from bokeh.plotting import Figure\n",
    "from datashader.bokeh_ext import create_ramp_legend, create_categorical_legend\n",
    "\n",
    "output_notebook()\n",
    "\n",
    "import datashader.transfer_functions as tf\n",
    "\n",
    "import datashader as ds\n",
    "from datashader.colors import viridis\n",
    "\n",
    "from ipywidgets import interact\n",
    "from ipywidgets import FloatSlider\n",
    "import ipywidgets as widgets"
   ]
  },
  {
   "cell_type": "code",
   "execution_count": 2,
   "metadata": {},
   "outputs": [],
   "source": [
    "\n",
    "def proforma(far, weighted_rent, parcel_size, land_cost,\n",
    "             parking_rate, sqft_per_rate, sqft_per_stall, per_sqft_parking_cost,\n",
    "             loan_to_cost_ratio, drawdown_factor, interest_rate, loan_fees, cap_rate,\n",
    "             building_efficiency, profit_factor, building_cost_per_sqft, construction_months,\n",
    "             chart_components = False, multi_return = False):\n",
    "    \"\"\"\n",
    "    Pure-python implementation of proforma logic.\n",
    "    \"\"\"\n",
    "    # Building bulk\n",
    "    building_sqft = parcel_size * far\n",
    "\n",
    "    # Parking\n",
    "    parking_stalls = building_sqft * parking_rate / sqft_per_rate\n",
    "    park_sqft = parking_stalls * sqft_per_stall\n",
    "    park_cost = park_sqft * per_sqft_parking_cost\n",
    "\n",
    "    # Total space\n",
    "    total_built_sqft = building_sqft + park_sqft\n",
    "    parking_sqft_ratio = park_sqft / total_built_sqft\n",
    "\n",
    "    # Construction costs\n",
    "    build_cost = building_cost_per_sqft * building_sqft\n",
    "    cost = build_cost + park_cost\n",
    "    cost_sqft = (cost / total_built_sqft) * profit_factor\n",
    "    building_cost = building_sqft * cost_sqft # cost to build the new building\n",
    "    total_construction_costs = building_cost + land_cost # add cost to buy current building\n",
    "\n",
    "    # Financing costs\n",
    "    loan_amount = total_construction_costs * loan_to_cost_ratio\n",
    "    interest = loan_amount * drawdown_factor * (interest_rate / 12 * construction_months)\n",
    "    points = loan_amount * loan_fees\n",
    "    total_financing_costs = interest + points\n",
    "    total_development_costs = total_construction_costs + total_financing_costs\n",
    "\n",
    "    # Revenue\n",
    "    usable_space = building_sqft * (1 - parking_sqft_ratio) * building_efficiency\n",
    "    building_revenue = usable_space * weighted_rent / cap_rate\n",
    "\n",
    "    # Profit\n",
    "    profit = building_revenue - total_development_costs\n",
    "    \n",
    "    if chart_components:\n",
    "        components = pd.Series({'revenue':building_revenue, 'costs':total_development_costs,\n",
    "                                'profit':profit})\n",
    "        return components.plot.bar()\n",
    "    \n",
    "    if multi_return:\n",
    "        return profit, building_revenue, total_development_costs\n",
    "    \n",
    "    return profit\n",
    "\n",
    "def profitability_given_rent(weighted_rent):\n",
    "    far = 4.0\n",
    "    loan_to_cost_ratio = .7\n",
    "    drawdown_factor = 0.6\n",
    "    interest_rate = 0.05\n",
    "    loan_fees = 0.02\n",
    "    building_efficiency = 0.7\n",
    "    cap_rate = 0.05\n",
    "    profit_factor = 1.1\n",
    "\n",
    "    # Parking-type specific\n",
    "    parking_rate = 1.0\n",
    "    sqft_per_rate = 1000.0\n",
    "    sqft_per_stall = 250.0\n",
    "    per_sqft_parking_cost = 81\n",
    "\n",
    "    # Parcel-specific  info\n",
    "    parcel_size = 30000.0\n",
    "    land_cost = 2000000.0\n",
    "\n",
    "    # Lookups\n",
    "    building_cost_per_sqft = 158 ## This is a lookup (cost_per_sqft_for_this_height)\n",
    "    construction_months = 18 ## A lookup of self.construction_months based on total_sqft\n",
    "\n",
    "    ## Calculate profitability of a known example and confirm that result matches expectations\n",
    "    result = proforma(far, weighted_rent, parcel_size, land_cost,\n",
    "                     parking_rate, sqft_per_rate, sqft_per_stall, per_sqft_parking_cost,\n",
    "                     loan_to_cost_ratio, drawdown_factor, interest_rate, loan_fees, cap_rate,\n",
    "                     building_efficiency, profit_factor, building_cost_per_sqft, construction_months)\n",
    "    return result\n",
    "\n",
    "\n",
    "def proforma2(far, weighted_rent, parcel_size, land_cost,\n",
    "             parking_rate, sqft_per_rate, sqft_per_stall, per_sqft_parking_cost,\n",
    "             loan_to_cost_ratio, drawdown_factor, interest_rate, loan_fees, cap_rate,\n",
    "             building_efficiency, profit_factor, parcel_coverage, height_per_story,\n",
    "             chart_components = False, multi_return = False):\n",
    "    \"\"\"\n",
    "    Pure-python implementation of proforma logic, with cost/height lookups built-in.\n",
    "    \"\"\"\n",
    "    # Building bulk\n",
    "    building_sqft = parcel_size * far\n",
    "    stories = building_sqft / (parcel_size * parcel_coverage)  ## For underground parking\n",
    "    height = stories * height_per_story  \n",
    "    \n",
    "    # Parking\n",
    "    parking_stalls = building_sqft * parking_rate / sqft_per_rate\n",
    "    park_sqft = parking_stalls * sqft_per_stall\n",
    "    park_cost = park_sqft * per_sqft_parking_cost\n",
    "\n",
    "    # Total space\n",
    "    total_built_sqft = building_sqft + park_sqft\n",
    "    parking_sqft_ratio = park_sqft / total_built_sqft\n",
    "\n",
    "    # Construction costs\n",
    "    if height <= 15:\n",
    "        building_cost_per_sqft = 170  ##  These costs are for residential form\n",
    "    elif height <= 55:\n",
    "        building_cost_per_sqft = 190  # wood\n",
    "    elif height <= 120:\n",
    "        building_cost_per_sqft = 210  # concrete\n",
    "    else:\n",
    "        building_cost_per_sqft = 240  # steel\n",
    "\n",
    "    build_cost = building_cost_per_sqft * building_sqft\n",
    "    cost = build_cost + park_cost\n",
    "    cost_sqft = (cost / total_built_sqft) * profit_factor\n",
    "    building_cost = building_sqft * cost_sqft # cost to build the new building\n",
    "    total_construction_costs = building_cost + land_cost # add cost to buy current building\n",
    "\n",
    "    # Financing costs\n",
    "    if total_built_sqft <= 10000:\n",
    "        construction_months = 12\n",
    "    elif total_built_sqft <= 20000:\n",
    "        construction_months = 14\n",
    "    elif total_built_sqft <= 50000:\n",
    "        construction_months = 18\n",
    "    else:\n",
    "        construction_months = 24\n",
    "\n",
    "    loan_amount = total_construction_costs * loan_to_cost_ratio\n",
    "    interest = loan_amount * drawdown_factor * (interest_rate / 12 * construction_months)\n",
    "    points = loan_amount * loan_fees\n",
    "    total_financing_costs = interest + points\n",
    "    total_development_costs = total_construction_costs + total_financing_costs\n",
    "\n",
    "    # Revenue\n",
    "    usable_space = building_sqft * (1 - parking_sqft_ratio) * building_efficiency\n",
    "    building_revenue = usable_space * weighted_rent / cap_rate\n",
    "\n",
    "    # Profit\n",
    "    profit = building_revenue - total_development_costs\n",
    "    \n",
    "    if chart_components:\n",
    "        components = pd.Series({'revenue':building_revenue, 'costs':total_development_costs,\n",
    "                                'profit':profit})\n",
    "        return components.plot.bar()\n",
    "    \n",
    "    if multi_return:\n",
    "        return profit, building_revenue, total_development_costs\n",
    "    \n",
    "    return profit"
   ]
  },
  {
   "cell_type": "markdown",
   "metadata": {},
   "source": [
    "## Proforma sensitivity tests"
   ]
  },
  {
   "cell_type": "markdown",
   "metadata": {},
   "source": [
    "### Profitability as a function of annual rent/sqft"
   ]
  },
  {
   "cell_type": "code",
   "execution_count": 3,
   "metadata": {},
   "outputs": [
    {
     "data": {
      "application/vnd.jupyter.widget-view+json": {
       "model_id": "4b15cf070b4e4a3abf4cb4dccbad3563",
       "version_major": 2,
       "version_minor": 0
      },
      "text/plain": [
       "interactive(children=(FloatSlider(value=10.0, description='weighted_rent', max=50.0, step=0.5, style=SliderSty…"
      ]
     },
     "metadata": {},
     "output_type": "display_data"
    }
   ],
   "source": [
    "style = {'description_width': 'initial'}\n",
    "interact(profitability_given_rent, weighted_rent=widgets.FloatSlider(min=0,max=50,step=.5,value=10, style=style));"
   ]
  },
  {
   "cell_type": "markdown",
   "metadata": {},
   "source": [
    "### Profitiability given all proforma parameters"
   ]
  },
  {
   "cell_type": "code",
   "execution_count": 4,
   "metadata": {},
   "outputs": [
    {
     "data": {
      "application/vnd.jupyter.widget-view+json": {
       "model_id": "d7ad2224a277445e85ae5a1310d56cc5",
       "version_major": 2,
       "version_minor": 0
      },
      "text/plain": [
       "interactive(children=(FloatSlider(value=4.0, continuous_update=False, description='far', max=50.0, min=0.1, st…"
      ]
     },
     "metadata": {},
     "output_type": "display_data"
    }
   ],
   "source": [
    "continuous_update=False\n",
    "style = {'description_width': 'initial'}\n",
    "interact(proforma, chart_components=False,\n",
    "         far = widgets.FloatSlider(min=.1,max=50,step=.1,value=4, continuous_update=continuous_update, style=style),\n",
    "         loan_to_cost_ratio = widgets.FloatSlider(min=0,max=1,step=.05,value=.7, continuous_update=continuous_update, style=style),\n",
    "         drawdown_factor = widgets.FloatSlider(min=0,max=1,step=.05,value=.6, continuous_update=continuous_update, style=style),\n",
    "         interest_rate = widgets.FloatSlider(min=0,max=.5,step=.005,value=.05, continuous_update=continuous_update, style=style),\n",
    "         loan_fees = widgets.FloatSlider(min=0,max=1,step=.005,value=.02, continuous_update=continuous_update, style=style),\n",
    "         building_efficiency = widgets.FloatSlider(min=0,max=1,step=.005,value=.7, continuous_update=continuous_update, style=style),\n",
    "         cap_rate = widgets.FloatSlider(min=0.005,max=.3,step=.005,value=.05, continuous_update=continuous_update, style=style),\n",
    "         profit_factor = widgets.FloatSlider(min=0,max=10,step=.1,value=1.1, continuous_update=continuous_update, style=style),\n",
    "         parking_rate = widgets.FloatSlider(min=0,max=10,step=.1,value=1.0, continuous_update=continuous_update, style=style),\n",
    "         sqft_per_rate = widgets.FloatSlider(min=0,max=10000,step=100,value=1000, continuous_update=continuous_update, style=style),\n",
    "         sqft_per_stall = widgets.FloatSlider(min=0,max=5000,step=50,value=250, continuous_update=continuous_update, style=style),\n",
    "         per_sqft_parking_cost = widgets.FloatSlider(min=0,max=1000,step=10,value=100, continuous_update=continuous_update, style=style),\n",
    "         weighted_rent=widgets.FloatSlider(min=0,max=100,step=.5,value=40, continuous_update=continuous_update, style=style),\n",
    "         parcel_size = widgets.FloatSlider(min=1000,max=100000,step=500,value=30000, continuous_update=continuous_update, style=style),\n",
    "         land_cost = widgets.FloatSlider(min=0,max=10000000,step=100000,value=2000000, continuous_update=continuous_update, style=style),\n",
    "         building_cost_per_sqft = widgets.FloatSlider(min=0,max=1000,step=5,value=195, continuous_update=continuous_update, style=style),\n",
    "         construction_months = widgets.FloatSlider(min=1,max=100,step=1,value=18, continuous_update=continuous_update, style=style),\n",
    "        );"
   ]
  },
  {
   "cell_type": "code",
   "execution_count": 5,
   "metadata": {},
   "outputs": [
    {
     "data": {
      "application/vnd.jupyter.widget-view+json": {
       "model_id": "61857957d4244e6a99d6e78696ad22f4",
       "version_major": 2,
       "version_minor": 0
      },
      "text/plain": [
       "interactive(children=(FloatSlider(value=4.0, continuous_update=False, description='far', max=20.0, min=0.1, st…"
      ]
     },
     "metadata": {},
     "output_type": "display_data"
    }
   ],
   "source": [
    "continuous_update=False\n",
    "style = {'description_width': 'initial'}\n",
    "interact(proforma2, chart_components=False,\n",
    "         far = widgets.FloatSlider(min=.1,max=20,step=.2,value=4, continuous_update=continuous_update, style=style),\n",
    "         loan_to_cost_ratio = widgets.FloatSlider(min=0,max=1,step=.05,value=.7, continuous_update=continuous_update, style=style),\n",
    "         drawdown_factor = widgets.FloatSlider(min=0,max=1,step=.05,value=.6, continuous_update=continuous_update, style=style),\n",
    "         interest_rate = widgets.FloatSlider(min=0,max=.5,step=.005,value=.05, continuous_update=continuous_update, style=style),\n",
    "         loan_fees = widgets.FloatSlider(min=0,max=1,step=.005,value=.02, continuous_update=continuous_update, style=style),\n",
    "         building_efficiency = widgets.FloatSlider(min=0,max=1,step=.005,value=.7, continuous_update=continuous_update, style=style),\n",
    "         cap_rate = widgets.FloatSlider(min=0.005,max=.3,step=.005,value=.05, continuous_update=continuous_update, style=style),\n",
    "         profit_factor = widgets.FloatSlider(min=0,max=10,step=.1,value=1.1, continuous_update=continuous_update, style=style),\n",
    "         parking_rate = widgets.FloatSlider(min=0,max=10,step=.1,value=1.0, continuous_update=continuous_update, style=style),\n",
    "         sqft_per_rate = widgets.FloatSlider(min=0,max=10000,step=100,value=1000, continuous_update=continuous_update, style=style),\n",
    "         sqft_per_stall = widgets.FloatSlider(min=0,max=5000,step=50,value=250, continuous_update=continuous_update, style=style),\n",
    "         per_sqft_parking_cost = widgets.FloatSlider(min=0,max=1000,step=10,value=100, continuous_update=continuous_update, style=style),\n",
    "         weighted_rent=widgets.FloatSlider(min=0,max=100,step=.5,value=40, continuous_update=continuous_update, style=style),\n",
    "         parcel_size = widgets.FloatSlider(min=1000,max=100000,step=500,value=30000, continuous_update=continuous_update, style=style),\n",
    "         land_cost = widgets.FloatSlider(min=0,max=10000000,step=100000,value=2000000, continuous_update=continuous_update, style=style),\n",
    "         parcel_coverage = widgets.FloatSlider(min=0,max=1,step=.005,value=.8, continuous_update=continuous_update, style=style),\n",
    "         height_per_story = widgets.FloatSlider(min=8,max=25,step=1,value=12, continuous_update=continuous_update, style=style),\n",
    "        );"
   ]
  }
 ],
 "metadata": {
  "kernelspec": {
   "display_name": "Python [conda env:template]",
   "language": "python",
   "name": "conda-env-template-py"
  },
  "language_info": {
   "codemirror_mode": {
    "name": "ipython",
    "version": 3
   },
   "file_extension": ".py",
   "mimetype": "text/x-python",
   "name": "python",
   "nbconvert_exporter": "python",
   "pygments_lexer": "ipython3",
   "version": "3.6.6"
  }
 },
 "nbformat": 4,
 "nbformat_minor": 2
}
