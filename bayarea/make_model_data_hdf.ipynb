{
 "cells": [
  {
   "cell_type": "code",
   "execution_count": 9,
   "metadata": {},
   "outputs": [],
   "source": [
    "import pandas as pd\n",
    "import numpy as np"
   ]
  },
  {
   "cell_type": "code",
   "execution_count": 2,
   "metadata": {},
   "outputs": [],
   "source": [
    "d = './data/'"
   ]
  },
  {
   "cell_type": "code",
   "execution_count": 37,
   "metadata": {},
   "outputs": [],
   "source": [
    "parcels = pd.read_csv(\n",
    "        d + 'parcel_attr.csv',\n",
    "        index_col='primary_id',\n",
    "        dtype={'primary_id': int, 'block_id': str})"
   ]
  },
  {
   "cell_type": "code",
   "execution_count": 39,
   "metadata": {},
   "outputs": [
    {
     "name": "stderr",
     "output_type": "stream",
     "text": [
      "/home/paul/anaconda3/envs/urbansim/lib/python3.6/site-packages/ipykernel_launcher.py:5: SettingWithCopyWarning: \n",
      "A value is trying to be set on a copy of a slice from a DataFrame\n",
      "\n",
      "See the caveats in the documentation: http://pandas.pydata.org/pandas-docs/stable/indexing.html#indexing-view-versus-copy\n",
      "  \"\"\"\n"
     ]
    }
   ],
   "source": [
    "buildings = pd.read_csv(\n",
    "        d + 'buildings_v2.csv',\n",
    "        index_col='building_id', dtype={'building_id': int, 'parcel_id': int})\n",
    "buildings['res_sqft_per_unit'] = buildings['residential_sqft'] / buildings['residential_units']\n",
    "buildings['res_sqft_per_unit'][buildings['res_sqft_per_unit'] == np.inf] = 0"
   ]
  },
  {
   "cell_type": "code",
   "execution_count": 40,
   "metadata": {},
   "outputs": [],
   "source": [
    "craigslist = pd.read_csv(\n",
    "        d + 'MTC_craigslist_listings_7-10-18.csv',\n",
    "        index_col='pid', dtype={'pid': int})"
   ]
  },
  {
   "cell_type": "code",
   "execution_count": 41,
   "metadata": {},
   "outputs": [],
   "source": [
    "units = pd.read_csv(\n",
    "        d + 'units_v2.csv',\n",
    "        index_col='unit_id', dtype={'unit_id': int, 'building_id': int})"
   ]
  },
  {
   "cell_type": "code",
   "execution_count": 42,
   "metadata": {},
   "outputs": [],
   "source": [
    "households = pd.read_csv(\n",
    "        d + 'households_v2.csv',\n",
    "        index_col='household_id', dtype={\n",
    "            'household_id': int, 'block_group_id': str, 'state': str,\n",
    "            'county': str, 'tract': str, 'block_group': str,\n",
    "            'building_id': int, 'unit_id': int, 'persons': float})"
   ]
  },
  {
   "cell_type": "code",
   "execution_count": 43,
   "metadata": {},
   "outputs": [],
   "source": [
    "persons = pd.read_csv(\n",
    "        d + 'persons_v3.csv',\n",
    "        index_col='person_id', dtype={'person_id': int, 'household_id': int})"
   ]
  },
  {
   "cell_type": "code",
   "execution_count": 44,
   "metadata": {},
   "outputs": [],
   "source": [
    "jobs = pd.read_csv(\n",
    "        d + 'jobs_v2.csv',\n",
    "        index_col='job_id', dtype={'job_id': int, 'building_id': int})"
   ]
  },
  {
   "cell_type": "code",
   "execution_count": 45,
   "metadata": {},
   "outputs": [],
   "source": [
    "establishments = pd.read_csv(\n",
    "        d + 'establishments_v2.csv',\n",
    "        index_col='establishment_id', dtype={\n",
    "            'establishment_id': int, 'building_id': int, 'primary_id': int})"
   ]
  },
  {
   "cell_type": "code",
   "execution_count": 46,
   "metadata": {},
   "outputs": [
    {
     "name": "stderr",
     "output_type": "stream",
     "text": [
      "/home/paul/anaconda3/envs/urbansim/lib/python3.6/site-packages/IPython/core/interactiveshell.py:3209: PerformanceWarning: \n",
      "your performance may suffer as PyTables will pickle object types that it cannot\n",
      "map directly to c-types [inferred_type->mixed,key->block2_values] [items->['apn', 'parcel_id_local', 'imputation_flag', 'block_id']]\n",
      "\n",
      "  if (yield from self.run_code(code, result)):\n",
      "/home/paul/anaconda3/envs/urbansim/lib/python3.6/site-packages/IPython/core/interactiveshell.py:3209: PerformanceWarning: \n",
      "your performance may suffer as PyTables will pickle object types that it cannot\n",
      "map directly to c-types [inferred_type->mixed,key->block2_values] [items->['redfin_home_type', 'costar_property_type', 'costar_rent']]\n",
      "\n",
      "  if (yield from self.run_code(code, result)):\n",
      "/home/paul/anaconda3/envs/urbansim/lib/python3.6/site-packages/IPython/core/interactiveshell.py:3209: PerformanceWarning: \n",
      "your performance may suffer as PyTables will pickle object types that it cannot\n",
      "map directly to c-types [inferred_type->mixed-integer,key->block2_values] [items->['date', 'region', 'neighborhood', 'county', 'state', 'bathrooms']]\n",
      "\n",
      "  if (yield from self.run_code(code, result)):\n"
     ]
    },
    {
     "data": {
      "text/plain": [
       "['/buildings',\n",
       " '/craigslist',\n",
       " '/establishments',\n",
       " '/households',\n",
       " '/jobs',\n",
       " '/parcels',\n",
       " '/persons',\n",
       " '/units']"
      ]
     },
     "execution_count": 46,
     "metadata": {},
     "output_type": "execute_result"
    }
   ],
   "source": [
    "store = pd.HDFStore('data/model_data.h5')\n",
    "store.put('parcels',parcels)\n",
    "store.put('buildings',buildings)\n",
    "store.put('units',units)\n",
    "store.put('craigslist',craigslist)\n",
    "store.put('households',households)\n",
    "store.put('persons',persons)\n",
    "store.put('jobs',jobs)\n",
    "store.put('establishments',establishments)\n",
    "store.keys()"
   ]
  },
  {
   "cell_type": "code",
   "execution_count": 47,
   "metadata": {},
   "outputs": [],
   "source": [
    "store.close()"
   ]
  },
  {
   "cell_type": "code",
   "execution_count": null,
   "metadata": {},
   "outputs": [],
   "source": []
  }
 ],
 "metadata": {
  "kernelspec": {
   "display_name": "Python [conda env:urbansim] *",
   "language": "python",
   "name": "conda-env-urbansim-py"
  },
  "language_info": {
   "codemirror_mode": {
    "name": "ipython",
    "version": 3
   },
   "file_extension": ".py",
   "mimetype": "text/x-python",
   "name": "python",
   "nbconvert_exporter": "python",
   "pygments_lexer": "ipython3",
   "version": "3.6.7"
  }
 },
 "nbformat": 4,
 "nbformat_minor": 2
}
