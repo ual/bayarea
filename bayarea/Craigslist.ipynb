{
 "cells": [
  {
   "cell_type": "code",
   "execution_count": 1,
   "metadata": {},
   "outputs": [],
   "source": [
    "%%capture\n",
    "%matplotlib notebook\n",
    "%matplotlib inline\n",
    "import matplotlib.pyplot as plt\n",
    "\n",
    "import pandana as pdna\n",
    "from urbansim.utils import misc\n",
    "\n",
    "from ipywidgets import interact\n",
    "from ipywidgets import FloatSlider\n",
    "\n",
    "from bokeh.io import output_notebook, show\n",
    "from bokeh.plotting import Figure\n",
    "from datashader.bokeh_ext import create_ramp_legend, create_categorical_legend\n",
    "\n",
    "output_notebook()\n",
    "\n",
    "import datashader.transfer_functions as tf\n",
    "\n",
    "import datashader as ds\n",
    "from datashader.colors import viridis\n",
    "\n",
    "import orca\n",
    "\n",
    "from lcog import datasources\n",
    "from lcog import variables\n",
    "from lcog import models\n",
    "\n",
    "def visualize_parcel_variable(var_name):\n",
    "    parcels = orca.get_table('parcels').to_frame(['x', 'y', var_name])\n",
    "\n",
    "    cvs = ds.Canvas(plot_width=700, plot_height=500)\n",
    "    agg = cvs.points(parcels, 'x', 'y', ds.mean(var_name))\n",
    "    img = tf.set_background(tf.shade(agg, cmap=viridis),\"white\")\n",
    "    return img\n",
    "\n",
    "def cl_network_access_plot(table_var_name, distance, agg_function, decay):\n",
    "    network.set(craigslist.node_id, variable = craigslist[table_var_name])\n",
    "    results = network.aggregate(distance, type=agg_function, decay=decay)\n",
    "    \n",
    "    access_var_name = '_'.join([agg_function, table_var_name, str(distance), decay])\n",
    "    parcels[access_var_name] = misc.reindex(results, parcels.node_id)\n",
    "\n",
    "    cvs = ds.Canvas(plot_width=700, plot_height=500)\n",
    "    agg = cvs.points(parcels, 'x', 'y', ds.mean(access_var_name))\n",
    "    img = tf.set_background(tf.shade(agg, cmap=viridis),\"white\")\n",
    "    return img\n",
    "\n",
    "orca.run(['build_networks'])\n",
    "\n",
    "craigslist = orca.get_table('craigslist').local\n",
    "network = orca.get_injectable('net')\n",
    "parcels = orca.get_table('parcels').local"
   ]
  },
  {
   "cell_type": "code",
   "execution_count": 2,
   "metadata": {},
   "outputs": [
    {
     "name": "stdout",
     "output_type": "stream",
     "text": [
      "There are 29314 craigslist rental observations.\n"
     ]
    },
    {
     "data": {
      "text/html": [
       "<div>\n",
       "<style scoped>\n",
       "    .dataframe tbody tr th:only-of-type {\n",
       "        vertical-align: middle;\n",
       "    }\n",
       "\n",
       "    .dataframe tbody tr th {\n",
       "        vertical-align: top;\n",
       "    }\n",
       "\n",
       "    .dataframe thead th {\n",
       "        text-align: right;\n",
       "    }\n",
       "</style>\n",
       "<table border=\"1\" class=\"dataframe\">\n",
       "  <thead>\n",
       "    <tr style=\"text-align: right;\">\n",
       "      <th></th>\n",
       "      <th>date</th>\n",
       "      <th>rent</th>\n",
       "      <th>bedrooms</th>\n",
       "      <th>sqft</th>\n",
       "      <th>rent_sqft</th>\n",
       "      <th>longitude</th>\n",
       "      <th>latitude</th>\n",
       "      <th>bathrooms</th>\n",
       "      <th>node_id</th>\n",
       "    </tr>\n",
       "  </thead>\n",
       "  <tbody>\n",
       "    <tr>\n",
       "      <th>0</th>\n",
       "      <td>2016-11-13</td>\n",
       "      <td>975.0</td>\n",
       "      <td>3.0</td>\n",
       "      <td>1000.0</td>\n",
       "      <td>0.975000</td>\n",
       "      <td>-123.123178</td>\n",
       "      <td>44.092948</td>\n",
       "      <td>NaN</td>\n",
       "      <td>40011021</td>\n",
       "    </tr>\n",
       "    <tr>\n",
       "      <th>1</th>\n",
       "      <td>2016-11-13</td>\n",
       "      <td>1600.0</td>\n",
       "      <td>3.0</td>\n",
       "      <td>2100.0</td>\n",
       "      <td>0.761905</td>\n",
       "      <td>-123.061400</td>\n",
       "      <td>44.038500</td>\n",
       "      <td>NaN</td>\n",
       "      <td>40204767</td>\n",
       "    </tr>\n",
       "    <tr>\n",
       "      <th>2</th>\n",
       "      <td>2016-11-13</td>\n",
       "      <td>1275.0</td>\n",
       "      <td>2.0</td>\n",
       "      <td>832.0</td>\n",
       "      <td>1.532452</td>\n",
       "      <td>-123.082881</td>\n",
       "      <td>44.023681</td>\n",
       "      <td>NaN</td>\n",
       "      <td>1377836343</td>\n",
       "    </tr>\n",
       "    <tr>\n",
       "      <th>3</th>\n",
       "      <td>2016-11-13</td>\n",
       "      <td>10000.0</td>\n",
       "      <td>2.0</td>\n",
       "      <td>840.0</td>\n",
       "      <td>20.238095</td>\n",
       "      <td>-122.917100</td>\n",
       "      <td>44.056100</td>\n",
       "      <td>NaN</td>\n",
       "      <td>4214004554</td>\n",
       "    </tr>\n",
       "    <tr>\n",
       "      <th>4</th>\n",
       "      <td>2016-11-13</td>\n",
       "      <td>1150.0</td>\n",
       "      <td>2.0</td>\n",
       "      <td>884.0</td>\n",
       "      <td>1.300905</td>\n",
       "      <td>-123.061230</td>\n",
       "      <td>44.092548</td>\n",
       "      <td>NaN</td>\n",
       "      <td>2251405279</td>\n",
       "    </tr>\n",
       "  </tbody>\n",
       "</table>\n",
       "</div>"
      ],
      "text/plain": [
       "         date     rent  bedrooms    sqft  rent_sqft   longitude   latitude  \\\n",
       "0  2016-11-13    975.0       3.0  1000.0   0.975000 -123.123178  44.092948   \n",
       "1  2016-11-13   1600.0       3.0  2100.0   0.761905 -123.061400  44.038500   \n",
       "2  2016-11-13   1275.0       2.0   832.0   1.532452 -123.082881  44.023681   \n",
       "3  2016-11-13  10000.0       2.0   840.0  20.238095 -122.917100  44.056100   \n",
       "4  2016-11-13   1150.0       2.0   884.0   1.300905 -123.061230  44.092548   \n",
       "\n",
       "   bathrooms     node_id  \n",
       "0        NaN    40011021  \n",
       "1        NaN    40204767  \n",
       "2        NaN  1377836343  \n",
       "3        NaN  4214004554  \n",
       "4        NaN  2251405279  "
      ]
     },
     "execution_count": 2,
     "metadata": {},
     "output_type": "execute_result"
    }
   ],
   "source": [
    "print('There are %s craigslist rental observations.' % len(craigslist))\n",
    "craigslist.head()"
   ]
  },
  {
   "cell_type": "code",
   "execution_count": 3,
   "metadata": {},
   "outputs": [
    {
     "data": {
      "text/plain": [
       "<matplotlib.axes._subplots.AxesSubplot at 0x7f65c46a8f28>"
      ]
     },
     "execution_count": 3,
     "metadata": {},
     "output_type": "execute_result"
    },
    {
     "data": {
      "image/png": "[encoded data removed]",
      "text/plain": [
       "<Figure size 432x288 with 1 Axes>"
      ]
     },
     "metadata": {},
     "output_type": "display_data"
    }
   ],
   "source": [
    "craigslist.bedrooms.value_counts().plot(kind='bar')"
   ]
  },
  {
   "cell_type": "code",
   "execution_count": 4,
   "metadata": {},
   "outputs": [
    {
     "data": {
      "image/png": "[encoded data removed]",
      "text/plain": [
       "<Figure size 432x288 with 1 Axes>"
      ]
     },
     "metadata": {},
     "output_type": "display_data"
    }
   ],
   "source": [
    "plt.hist(craigslist.rent[craigslist.rent < 6000],bins= 100);"
   ]
  },
  {
   "cell_type": "code",
   "execution_count": 5,
   "metadata": {},
   "outputs": [
    {
     "data": {
      "image/png": "[encoded data removed]",
      "text/plain": [
       "<Figure size 432x288 with 1 Axes>"
      ]
     },
     "metadata": {},
     "output_type": "display_data"
    }
   ],
   "source": [
    "plt.hist(craigslist.rent_sqft[craigslist.rent_sqft < 5],bins= 100);"
   ]
  },
  {
   "cell_type": "code",
   "execution_count": 6,
   "metadata": {},
   "outputs": [
    {
     "data": {
      "application/vnd.jupyter.widget-view+json": {
       "model_id": "58d4c6623ecc48feb4ff7282320e8ba5",
       "version_major": 2,
       "version_minor": 0
      },
      "text/plain": [
       "interactive(children=(Dropdown(description='table_var_name', options=('rent', 'bedrooms', 'sqft', 'rent_sqft',…"
      ]
     },
     "metadata": {},
     "output_type": "display_data"
    },
    {
     "data": {
      "text/plain": [
       "<function __main__.cl_network_access_plot(table_var_name, distance, agg_function, decay)>"
      ]
     },
     "execution_count": 6,
     "metadata": {},
     "output_type": "execute_result"
    }
   ],
   "source": [
    "interact(cl_network_access_plot, table_var_name=[col for col in craigslist.columns if col != 'date'], distance=FloatSlider(min=200, max=5000, step=100, continuous_update=False), agg_function=['sum', 'ave', 'std'], decay=['flat', 'linear'])"
   ]
  }
 ],
 "metadata": {
  "kernelspec": {
   "display_name": "Python [conda env:template]",
   "language": "python",
   "name": "conda-env-template-py"
  },
  "language_info": {
   "codemirror_mode": {
    "name": "ipython",
    "version": 3
   },
   "file_extension": ".py",
   "mimetype": "text/x-python",
   "name": "python",
   "nbconvert_exporter": "python",
   "pygments_lexer": "ipython3",
   "version": "3.6.6"
  }
 },
 "nbformat": 4,
 "nbformat_minor": 2
}
