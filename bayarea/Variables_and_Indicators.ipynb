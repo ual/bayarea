{
 "cells": [
  {
   "cell_type": "code",
   "execution_count": 2,
   "metadata": {
    "scrolled": false
   },
   "outputs": [],
   "source": [
    "%%capture\n",
    "\n",
    "import orca\n",
    "import warnings; warnings.filterwarnings(\"ignore\")\n",
    "\n",
    "from bayarea import datasources\n",
    "from bayarea import variables\n",
    "from bayarea import models\n",
    "\n",
    "#orca.run(['build_networks'])\n",
    "\n",
    "%matplotlib inline"
   ]
  },
  {
   "cell_type": "markdown",
   "metadata": {},
   "source": [
    "## List available tables"
   ]
  },
  {
   "cell_type": "code",
   "execution_count": 3,
   "metadata": {},
   "outputs": [
    {
     "data": {
      "text/plain": [
       "['parcels',\n",
       " 'buildings',\n",
       " 'building_types',\n",
       " 'jobs',\n",
       " 'establishments',\n",
       " 'households',\n",
       " 'persons',\n",
       " 'craigslist',\n",
       " 'units',\n",
       " 'nodessmall',\n",
       " 'edgessmall',\n",
       " 'nodeswalk',\n",
       " 'edgeswalk',\n",
       " 'nodesbeam',\n",
       " 'edgesbeam']"
      ]
     },
     "execution_count": 3,
     "metadata": {},
     "output_type": "execute_result"
    }
   ],
   "source": [
    "orca.list_tables()"
   ]
  },
  {
   "cell_type": "markdown",
   "metadata": {},
   "source": [
    "## Get tables"
   ]
  },
  {
   "cell_type": "code",
   "execution_count": 3,
   "metadata": {},
   "outputs": [],
   "source": [
    "parcels = orca.get_table('parcels')\n",
    "households = orca.get_table('households')"
   ]
  },
  {
   "cell_type": "code",
   "execution_count": 5,
   "metadata": {},
   "outputs": [
    {
     "data": {
      "text/plain": [
       "parcel_id\n",
       "229116      725\n",
       "244166      715\n",
       "202378      820\n",
       "2004420    1401\n",
       "340332      763\n",
       "Name: zone_id, dtype: int64"
      ]
     },
     "execution_count": 5,
     "metadata": {},
     "output_type": "execute_result"
    }
   ],
   "source": [
    "parcels.zone_id.head()"
   ]
  },
  {
   "cell_type": "code",
   "execution_count": 7,
   "metadata": {},
   "outputs": [
    {
     "data": {
      "text/html": [
       "<div>\n",
       "<style scoped>\n",
       "    .dataframe tbody tr th:only-of-type {\n",
       "        vertical-align: middle;\n",
       "    }\n",
       "\n",
       "    .dataframe tbody tr th {\n",
       "        vertical-align: top;\n",
       "    }\n",
       "\n",
       "    .dataframe thead th {\n",
       "        text-align: right;\n",
       "    }\n",
       "</style>\n",
       "<table border=\"1\" class=\"dataframe\">\n",
       "  <thead>\n",
       "    <tr style=\"text-align: right;\">\n",
       "      <th></th>\n",
       "      <th>development_type_id</th>\n",
       "      <th>land_value</th>\n",
       "      <th>acres</th>\n",
       "      <th>county_id</th>\n",
       "      <th>zone_id</th>\n",
       "      <th>proportion_undevelopable</th>\n",
       "      <th>tax_exempt_status</th>\n",
       "      <th>apn</th>\n",
       "      <th>parcel_id_local</th>\n",
       "      <th>geom_id</th>\n",
       "      <th>imputation_flag</th>\n",
       "      <th>x</th>\n",
       "      <th>y</th>\n",
       "      <th>shape_area</th>\n",
       "      <th>block_id</th>\n",
       "      <th>node_id</th>\n",
       "    </tr>\n",
       "    <tr>\n",
       "      <th>parcel_id</th>\n",
       "      <th></th>\n",
       "      <th></th>\n",
       "      <th></th>\n",
       "      <th></th>\n",
       "      <th></th>\n",
       "      <th></th>\n",
       "      <th></th>\n",
       "      <th></th>\n",
       "      <th></th>\n",
       "      <th></th>\n",
       "      <th></th>\n",
       "      <th></th>\n",
       "      <th></th>\n",
       "      <th></th>\n",
       "      <th></th>\n",
       "      <th></th>\n",
       "    </tr>\n",
       "  </thead>\n",
       "  <tbody>\n",
       "    <tr>\n",
       "      <th>229116</th>\n",
       "      <td>1</td>\n",
       "      <td>0.0</td>\n",
       "      <td>3.360520</td>\n",
       "      <td>1</td>\n",
       "      <td>725</td>\n",
       "      <td>0.0</td>\n",
       "      <td>0</td>\n",
       "      <td>099 029001700</td>\n",
       "      <td></td>\n",
       "      <td>10305106092872</td>\n",
       "      <td>_</td>\n",
       "      <td>-121.795620</td>\n",
       "      <td>37.655379</td>\n",
       "      <td>1.359956e+04</td>\n",
       "      <td>060014511022061</td>\n",
       "      <td>53091636</td>\n",
       "    </tr>\n",
       "    <tr>\n",
       "      <th>244166</th>\n",
       "      <td>1</td>\n",
       "      <td>0.0</td>\n",
       "      <td>1.294423</td>\n",
       "      <td>1</td>\n",
       "      <td>715</td>\n",
       "      <td>0.0</td>\n",
       "      <td>0</td>\n",
       "      <td>099B540210200</td>\n",
       "      <td></td>\n",
       "      <td>11107351665227</td>\n",
       "      <td>_</td>\n",
       "      <td>-121.713004</td>\n",
       "      <td>37.717277</td>\n",
       "      <td>5.238348e+03</td>\n",
       "      <td>060014511011025</td>\n",
       "      <td>53059159</td>\n",
       "    </tr>\n",
       "    <tr>\n",
       "      <th>202378</th>\n",
       "      <td>25</td>\n",
       "      <td>6036500.0</td>\n",
       "      <td>14.993605</td>\n",
       "      <td>1</td>\n",
       "      <td>820</td>\n",
       "      <td>0.0</td>\n",
       "      <td>1</td>\n",
       "      <td>085A643106000</td>\n",
       "      <td></td>\n",
       "      <td>11030175960628</td>\n",
       "      <td>merged</td>\n",
       "      <td>-122.014199</td>\n",
       "      <td>37.655260</td>\n",
       "      <td>6.067702e+04</td>\n",
       "      <td>060014351031029</td>\n",
       "      <td>1852532916</td>\n",
       "    </tr>\n",
       "    <tr>\n",
       "      <th>2004420</th>\n",
       "      <td>-1</td>\n",
       "      <td>179954.0</td>\n",
       "      <td>316.247146</td>\n",
       "      <td>97</td>\n",
       "      <td>1401</td>\n",
       "      <td>0.0</td>\n",
       "      <td>0</td>\n",
       "      <td>141-100-012</td>\n",
       "      <td></td>\n",
       "      <td>6381677629073</td>\n",
       "      <td>_, nr_zone_yrblt, bsqft_from_nrsqft, stories1</td>\n",
       "      <td>-122.771868</td>\n",
       "      <td>38.727893</td>\n",
       "      <td>1.279808e+06</td>\n",
       "      <td>060971541003180</td>\n",
       "      <td>304716887</td>\n",
       "    </tr>\n",
       "    <tr>\n",
       "      <th>340332</th>\n",
       "      <td>2</td>\n",
       "      <td>0.0</td>\n",
       "      <td>0.621275</td>\n",
       "      <td>1</td>\n",
       "      <td>763</td>\n",
       "      <td>0.0</td>\n",
       "      <td>0</td>\n",
       "      <td>525 166004800</td>\n",
       "      <td></td>\n",
       "      <td>314875459798</td>\n",
       "      <td>_</td>\n",
       "      <td>-121.974508</td>\n",
       "      <td>37.546277</td>\n",
       "      <td>2.514215e+03</td>\n",
       "      <td>060014419272014</td>\n",
       "      <td>2397935818</td>\n",
       "    </tr>\n",
       "  </tbody>\n",
       "</table>\n",
       "</div>"
      ],
      "text/plain": [
       "           development_type_id  land_value       acres  county_id  zone_id  \\\n",
       "parcel_id                                                                    \n",
       "229116                       1         0.0    3.360520          1      725   \n",
       "244166                       1         0.0    1.294423          1      715   \n",
       "202378                      25   6036500.0   14.993605          1      820   \n",
       "2004420                     -1    179954.0  316.247146         97     1401   \n",
       "340332                       2         0.0    0.621275          1      763   \n",
       "\n",
       "           proportion_undevelopable  tax_exempt_status            apn  \\\n",
       "parcel_id                                                               \n",
       "229116                          0.0                  0  099 029001700   \n",
       "244166                          0.0                  0  099B540210200   \n",
       "202378                          0.0                  1  085A643106000   \n",
       "2004420                         0.0                  0    141-100-012   \n",
       "340332                          0.0                  0  525 166004800   \n",
       "\n",
       "          parcel_id_local         geom_id  \\\n",
       "parcel_id                                   \n",
       "229116                     10305106092872   \n",
       "244166                     11107351665227   \n",
       "202378                     11030175960628   \n",
       "2004420                     6381677629073   \n",
       "340332                       314875459798   \n",
       "\n",
       "                                         imputation_flag           x  \\\n",
       "parcel_id                                                              \n",
       "229116                                                 _ -121.795620   \n",
       "244166                                                 _ -121.713004   \n",
       "202378                                            merged -122.014199   \n",
       "2004420    _, nr_zone_yrblt, bsqft_from_nrsqft, stories1 -122.771868   \n",
       "340332                                                 _ -121.974508   \n",
       "\n",
       "                   y    shape_area         block_id     node_id  \n",
       "parcel_id                                                        \n",
       "229116     37.655379  1.359956e+04  060014511022061    53091636  \n",
       "244166     37.717277  5.238348e+03  060014511011025    53059159  \n",
       "202378     37.655260  6.067702e+04  060014351031029  1852532916  \n",
       "2004420    38.727893  1.279808e+06  060971541003180   304716887  \n",
       "340332     37.546277  2.514215e+03  060014419272014  2397935818  "
      ]
     },
     "execution_count": 7,
     "metadata": {},
     "output_type": "execute_result"
    }
   ],
   "source": [
    "parcels.local.head()"
   ]
  },
  {
   "cell_type": "code",
   "execution_count": 8,
   "metadata": {
    "scrolled": true
   },
   "outputs": [
    {
     "data": {
      "text/plain": [
       "orca.orca.DataFrameWrapper"
      ]
     },
     "execution_count": 8,
     "metadata": {},
     "output_type": "execute_result"
    }
   ],
   "source": [
    "type(households)"
   ]
  },
  {
   "cell_type": "code",
   "execution_count": 9,
   "metadata": {},
   "outputs": [
    {
     "data": {
      "text/plain": [
       "household_id\n",
       "0    85000.0\n",
       "1    27000.0\n",
       "2     6000.0\n",
       "3    28000.0\n",
       "4    10000.0\n",
       "Name: income, dtype: float64"
      ]
     },
     "execution_count": 9,
     "metadata": {},
     "output_type": "execute_result"
    }
   ],
   "source": [
    "households.income.head()"
   ]
  },
  {
   "cell_type": "code",
   "execution_count": 10,
   "metadata": {},
   "outputs": [
    {
     "data": {
      "text/plain": [
       "['serialno',\n",
       " 'persons',\n",
       " 'building_type',\n",
       " 'cars',\n",
       " 'income',\n",
       " 'race_of_head',\n",
       " 'hispanic_head',\n",
       " 'age_of_head',\n",
       " 'workers',\n",
       " 'state',\n",
       " 'county',\n",
       " 'tract',\n",
       " 'block_group',\n",
       " 'children',\n",
       " 'tenure',\n",
       " 'recent_mover',\n",
       " 'block_group_id',\n",
       " 'single_family',\n",
       " 'unit_id',\n",
       " 'building_id']"
      ]
     },
     "execution_count": 10,
     "metadata": {},
     "output_type": "execute_result"
    }
   ],
   "source": [
    "households.columns"
   ]
  },
  {
   "cell_type": "code",
   "execution_count": 11,
   "metadata": {},
   "outputs": [
    {
     "name": "stdout",
     "output_type": "stream",
     "text": [
      "18\n"
     ]
    }
   ],
   "source": [
    "print(len(parcels.columns))"
   ]
  },
  {
   "cell_type": "code",
   "execution_count": 12,
   "metadata": {},
   "outputs": [
    {
     "name": "stdout",
     "output_type": "stream",
     "text": [
      "[]\n"
     ]
    }
   ],
   "source": [
    "children_vars = [col for col in orca.get_table('parcels').columns if 'children' in col]\n",
    "print(children_vars)"
   ]
  },
  {
   "cell_type": "code",
   "execution_count": 13,
   "metadata": {},
   "outputs": [
    {
     "ename": "KeyError",
     "evalue": "'mean_children_ave_400_flat'",
     "output_type": "error",
     "traceback": [
      "\u001b[0;31m---------------------------------------------------------------------------\u001b[0m",
      "\u001b[0;31mKeyError\u001b[0m                                  Traceback (most recent call last)",
      "\u001b[0;32m~/anaconda3/envs/urbansim/lib/python3.6/site-packages/pandas/core/indexes/base.py\u001b[0m in \u001b[0;36mget_loc\u001b[0;34m(self, key, method, tolerance)\u001b[0m\n\u001b[1;32m   2655\u001b[0m             \u001b[0;32mtry\u001b[0m\u001b[0;34m:\u001b[0m\u001b[0;34m\u001b[0m\u001b[0;34m\u001b[0m\u001b[0m\n\u001b[0;32m-> 2656\u001b[0;31m                 \u001b[0;32mreturn\u001b[0m \u001b[0mself\u001b[0m\u001b[0;34m.\u001b[0m\u001b[0m_engine\u001b[0m\u001b[0;34m.\u001b[0m\u001b[0mget_loc\u001b[0m\u001b[0;34m(\u001b[0m\u001b[0mkey\u001b[0m\u001b[0;34m)\u001b[0m\u001b[0;34m\u001b[0m\u001b[0;34m\u001b[0m\u001b[0m\n\u001b[0m\u001b[1;32m   2657\u001b[0m             \u001b[0;32mexcept\u001b[0m \u001b[0mKeyError\u001b[0m\u001b[0;34m:\u001b[0m\u001b[0;34m\u001b[0m\u001b[0;34m\u001b[0m\u001b[0m\n",
      "\u001b[0;32mpandas/_libs/index.pyx\u001b[0m in \u001b[0;36mpandas._libs.index.IndexEngine.get_loc\u001b[0;34m()\u001b[0m\n",
      "\u001b[0;32mpandas/_libs/index.pyx\u001b[0m in \u001b[0;36mpandas._libs.index.IndexEngine.get_loc\u001b[0;34m()\u001b[0m\n",
      "\u001b[0;32mpandas/_libs/hashtable_class_helper.pxi\u001b[0m in \u001b[0;36mpandas._libs.hashtable.PyObjectHashTable.get_item\u001b[0;34m()\u001b[0m\n",
      "\u001b[0;32mpandas/_libs/hashtable_class_helper.pxi\u001b[0m in \u001b[0;36mpandas._libs.hashtable.PyObjectHashTable.get_item\u001b[0;34m()\u001b[0m\n",
      "\u001b[0;31mKeyError\u001b[0m: 'mean_children_ave_400_flat'",
      "\nDuring handling of the above exception, another exception occurred:\n",
      "\u001b[0;31mKeyError\u001b[0m                                  Traceback (most recent call last)",
      "\u001b[0;32m<ipython-input-13-28b75b53c31a>\u001b[0m in \u001b[0;36m<module>\u001b[0;34m\u001b[0m\n\u001b[0;32m----> 1\u001b[0;31m \u001b[0morca\u001b[0m\u001b[0;34m.\u001b[0m\u001b[0mget_table\u001b[0m\u001b[0;34m(\u001b[0m\u001b[0;34m'parcels'\u001b[0m\u001b[0;34m)\u001b[0m\u001b[0;34m.\u001b[0m\u001b[0mmean_children_ave_400_flat\u001b[0m\u001b[0;34m.\u001b[0m\u001b[0mtail\u001b[0m\u001b[0;34m(\u001b[0m\u001b[0;34m)\u001b[0m\u001b[0;34m\u001b[0m\u001b[0;34m\u001b[0m\u001b[0m\n\u001b[0m",
      "\u001b[0;32m~/anaconda3/envs/urbansim/lib/python3.6/site-packages/orca/orca.py\u001b[0m in \u001b[0;36m__getattr__\u001b[0;34m(self, key)\u001b[0m\n\u001b[1;32m    291\u001b[0m \u001b[0;34m\u001b[0m\u001b[0m\n\u001b[1;32m    292\u001b[0m     \u001b[0;32mdef\u001b[0m \u001b[0m__getattr__\u001b[0m\u001b[0;34m(\u001b[0m\u001b[0mself\u001b[0m\u001b[0;34m,\u001b[0m \u001b[0mkey\u001b[0m\u001b[0;34m)\u001b[0m\u001b[0;34m:\u001b[0m\u001b[0;34m\u001b[0m\u001b[0;34m\u001b[0m\u001b[0m\n\u001b[0;32m--> 293\u001b[0;31m         \u001b[0;32mreturn\u001b[0m \u001b[0mself\u001b[0m\u001b[0;34m.\u001b[0m\u001b[0mget_column\u001b[0m\u001b[0;34m(\u001b[0m\u001b[0mkey\u001b[0m\u001b[0;34m)\u001b[0m\u001b[0;34m\u001b[0m\u001b[0;34m\u001b[0m\u001b[0m\n\u001b[0m\u001b[1;32m    294\u001b[0m \u001b[0;34m\u001b[0m\u001b[0m\n\u001b[1;32m    295\u001b[0m     \u001b[0;32mdef\u001b[0m \u001b[0mcolumn_type\u001b[0m\u001b[0;34m(\u001b[0m\u001b[0mself\u001b[0m\u001b[0;34m,\u001b[0m \u001b[0mcolumn_name\u001b[0m\u001b[0;34m)\u001b[0m\u001b[0;34m:\u001b[0m\u001b[0;34m\u001b[0m\u001b[0;34m\u001b[0m\u001b[0m\n",
      "\u001b[0;32m~/anaconda3/envs/urbansim/lib/python3.6/site-packages/orca/orca.py\u001b[0m in \u001b[0;36mget_column\u001b[0;34m(self, column_name)\u001b[0m\n\u001b[1;32m    281\u001b[0m                     \u001b[0mcolumn\u001b[0m \u001b[0;34m=\u001b[0m \u001b[0mextra_cols\u001b[0m\u001b[0;34m[\u001b[0m\u001b[0mcolumn_name\u001b[0m\u001b[0;34m]\u001b[0m\u001b[0;34m(\u001b[0m\u001b[0;34m)\u001b[0m\u001b[0;34m\u001b[0m\u001b[0;34m\u001b[0m\u001b[0m\n\u001b[1;32m    282\u001b[0m             \u001b[0;32melse\u001b[0m\u001b[0;34m:\u001b[0m\u001b[0;34m\u001b[0m\u001b[0;34m\u001b[0m\u001b[0m\n\u001b[0;32m--> 283\u001b[0;31m                 \u001b[0mcolumn\u001b[0m \u001b[0;34m=\u001b[0m \u001b[0mself\u001b[0m\u001b[0;34m.\u001b[0m\u001b[0mlocal\u001b[0m\u001b[0;34m[\u001b[0m\u001b[0mcolumn_name\u001b[0m\u001b[0;34m]\u001b[0m\u001b[0;34m\u001b[0m\u001b[0;34m\u001b[0m\u001b[0m\n\u001b[0m\u001b[1;32m    284\u001b[0m             \u001b[0;32mif\u001b[0m \u001b[0mself\u001b[0m\u001b[0;34m.\u001b[0m\u001b[0mcopy_col\u001b[0m\u001b[0;34m:\u001b[0m\u001b[0;34m\u001b[0m\u001b[0;34m\u001b[0m\u001b[0m\n\u001b[1;32m    285\u001b[0m                 \u001b[0;32mreturn\u001b[0m \u001b[0mcolumn\u001b[0m\u001b[0;34m.\u001b[0m\u001b[0mcopy\u001b[0m\u001b[0;34m(\u001b[0m\u001b[0;34m)\u001b[0m\u001b[0;34m\u001b[0m\u001b[0;34m\u001b[0m\u001b[0m\n",
      "\u001b[0;32m~/anaconda3/envs/urbansim/lib/python3.6/site-packages/pandas/core/frame.py\u001b[0m in \u001b[0;36m__getitem__\u001b[0;34m(self, key)\u001b[0m\n\u001b[1;32m   2925\u001b[0m             \u001b[0;32mif\u001b[0m \u001b[0mself\u001b[0m\u001b[0;34m.\u001b[0m\u001b[0mcolumns\u001b[0m\u001b[0;34m.\u001b[0m\u001b[0mnlevels\u001b[0m \u001b[0;34m>\u001b[0m \u001b[0;36m1\u001b[0m\u001b[0;34m:\u001b[0m\u001b[0;34m\u001b[0m\u001b[0;34m\u001b[0m\u001b[0m\n\u001b[1;32m   2926\u001b[0m                 \u001b[0;32mreturn\u001b[0m \u001b[0mself\u001b[0m\u001b[0;34m.\u001b[0m\u001b[0m_getitem_multilevel\u001b[0m\u001b[0;34m(\u001b[0m\u001b[0mkey\u001b[0m\u001b[0;34m)\u001b[0m\u001b[0;34m\u001b[0m\u001b[0;34m\u001b[0m\u001b[0m\n\u001b[0;32m-> 2927\u001b[0;31m             \u001b[0mindexer\u001b[0m \u001b[0;34m=\u001b[0m \u001b[0mself\u001b[0m\u001b[0;34m.\u001b[0m\u001b[0mcolumns\u001b[0m\u001b[0;34m.\u001b[0m\u001b[0mget_loc\u001b[0m\u001b[0;34m(\u001b[0m\u001b[0mkey\u001b[0m\u001b[0;34m)\u001b[0m\u001b[0;34m\u001b[0m\u001b[0;34m\u001b[0m\u001b[0m\n\u001b[0m\u001b[1;32m   2928\u001b[0m             \u001b[0;32mif\u001b[0m \u001b[0mis_integer\u001b[0m\u001b[0;34m(\u001b[0m\u001b[0mindexer\u001b[0m\u001b[0;34m)\u001b[0m\u001b[0;34m:\u001b[0m\u001b[0;34m\u001b[0m\u001b[0;34m\u001b[0m\u001b[0m\n\u001b[1;32m   2929\u001b[0m                 \u001b[0mindexer\u001b[0m \u001b[0;34m=\u001b[0m \u001b[0;34m[\u001b[0m\u001b[0mindexer\u001b[0m\u001b[0;34m]\u001b[0m\u001b[0;34m\u001b[0m\u001b[0;34m\u001b[0m\u001b[0m\n",
      "\u001b[0;32m~/anaconda3/envs/urbansim/lib/python3.6/site-packages/pandas/core/indexes/base.py\u001b[0m in \u001b[0;36mget_loc\u001b[0;34m(self, key, method, tolerance)\u001b[0m\n\u001b[1;32m   2656\u001b[0m                 \u001b[0;32mreturn\u001b[0m \u001b[0mself\u001b[0m\u001b[0;34m.\u001b[0m\u001b[0m_engine\u001b[0m\u001b[0;34m.\u001b[0m\u001b[0mget_loc\u001b[0m\u001b[0;34m(\u001b[0m\u001b[0mkey\u001b[0m\u001b[0;34m)\u001b[0m\u001b[0;34m\u001b[0m\u001b[0;34m\u001b[0m\u001b[0m\n\u001b[1;32m   2657\u001b[0m             \u001b[0;32mexcept\u001b[0m \u001b[0mKeyError\u001b[0m\u001b[0;34m:\u001b[0m\u001b[0;34m\u001b[0m\u001b[0;34m\u001b[0m\u001b[0m\n\u001b[0;32m-> 2658\u001b[0;31m                 \u001b[0;32mreturn\u001b[0m \u001b[0mself\u001b[0m\u001b[0;34m.\u001b[0m\u001b[0m_engine\u001b[0m\u001b[0;34m.\u001b[0m\u001b[0mget_loc\u001b[0m\u001b[0;34m(\u001b[0m\u001b[0mself\u001b[0m\u001b[0;34m.\u001b[0m\u001b[0m_maybe_cast_indexer\u001b[0m\u001b[0;34m(\u001b[0m\u001b[0mkey\u001b[0m\u001b[0;34m)\u001b[0m\u001b[0;34m)\u001b[0m\u001b[0;34m\u001b[0m\u001b[0;34m\u001b[0m\u001b[0m\n\u001b[0m\u001b[1;32m   2659\u001b[0m         \u001b[0mindexer\u001b[0m \u001b[0;34m=\u001b[0m \u001b[0mself\u001b[0m\u001b[0;34m.\u001b[0m\u001b[0mget_indexer\u001b[0m\u001b[0;34m(\u001b[0m\u001b[0;34m[\u001b[0m\u001b[0mkey\u001b[0m\u001b[0;34m]\u001b[0m\u001b[0;34m,\u001b[0m \u001b[0mmethod\u001b[0m\u001b[0;34m=\u001b[0m\u001b[0mmethod\u001b[0m\u001b[0;34m,\u001b[0m \u001b[0mtolerance\u001b[0m\u001b[0;34m=\u001b[0m\u001b[0mtolerance\u001b[0m\u001b[0;34m)\u001b[0m\u001b[0;34m\u001b[0m\u001b[0;34m\u001b[0m\u001b[0m\n\u001b[1;32m   2660\u001b[0m         \u001b[0;32mif\u001b[0m \u001b[0mindexer\u001b[0m\u001b[0;34m.\u001b[0m\u001b[0mndim\u001b[0m \u001b[0;34m>\u001b[0m \u001b[0;36m1\u001b[0m \u001b[0;32mor\u001b[0m \u001b[0mindexer\u001b[0m\u001b[0;34m.\u001b[0m\u001b[0msize\u001b[0m \u001b[0;34m>\u001b[0m \u001b[0;36m1\u001b[0m\u001b[0;34m:\u001b[0m\u001b[0;34m\u001b[0m\u001b[0;34m\u001b[0m\u001b[0m\n",
      "\u001b[0;32mpandas/_libs/index.pyx\u001b[0m in \u001b[0;36mpandas._libs.index.IndexEngine.get_loc\u001b[0;34m()\u001b[0m\n",
      "\u001b[0;32mpandas/_libs/index.pyx\u001b[0m in \u001b[0;36mpandas._libs.index.IndexEngine.get_loc\u001b[0;34m()\u001b[0m\n",
      "\u001b[0;32mpandas/_libs/hashtable_class_helper.pxi\u001b[0m in \u001b[0;36mpandas._libs.hashtable.PyObjectHashTable.get_item\u001b[0;34m()\u001b[0m\n",
      "\u001b[0;32mpandas/_libs/hashtable_class_helper.pxi\u001b[0m in \u001b[0;36mpandas._libs.hashtable.PyObjectHashTable.get_item\u001b[0;34m()\u001b[0m\n",
      "\u001b[0;31mKeyError\u001b[0m: 'mean_children_ave_400_flat'"
     ]
    }
   ],
   "source": [
    "orca.get_table('parcels').mean_children_ave_400_flat.tail()"
   ]
  },
  {
   "cell_type": "code",
   "execution_count": 14,
   "metadata": {},
   "outputs": [
    {
     "ename": "KeyError",
     "evalue": "'table not found: zones'",
     "output_type": "error",
     "traceback": [
      "\u001b[0;31m---------------------------------------------------------------------------\u001b[0m",
      "\u001b[0;31mKeyError\u001b[0m                                  Traceback (most recent call last)",
      "\u001b[0;32m<ipython-input-14-175546033e91>\u001b[0m in \u001b[0;36m<module>\u001b[0;34m\u001b[0m\n\u001b[0;32m----> 1\u001b[0;31m \u001b[0mzones\u001b[0m \u001b[0;34m=\u001b[0m \u001b[0morca\u001b[0m\u001b[0;34m.\u001b[0m\u001b[0mget_table\u001b[0m\u001b[0;34m(\u001b[0m\u001b[0;34m'zones'\u001b[0m\u001b[0;34m)\u001b[0m\u001b[0;34m.\u001b[0m\u001b[0mto_frame\u001b[0m\u001b[0;34m(\u001b[0m\u001b[0;34m)\u001b[0m\u001b[0;34m\u001b[0m\u001b[0;34m\u001b[0m\u001b[0m\n\u001b[0m\u001b[1;32m      2\u001b[0m \u001b[0mprint\u001b[0m\u001b[0;34m(\u001b[0m\u001b[0mzones\u001b[0m\u001b[0;34m.\u001b[0m\u001b[0mshape\u001b[0m\u001b[0;34m)\u001b[0m\u001b[0;34m\u001b[0m\u001b[0;34m\u001b[0m\u001b[0m\n\u001b[1;32m      3\u001b[0m \u001b[0mzones\u001b[0m\u001b[0;34m\u001b[0m\u001b[0;34m\u001b[0m\u001b[0m\n",
      "\u001b[0;32m~/anaconda3/envs/urbansim/lib/python3.6/site-packages/orca/orca.py\u001b[0m in \u001b[0;36mget_table\u001b[0;34m(table_name)\u001b[0m\n\u001b[1;32m   1070\u001b[0m \u001b[0;34m\u001b[0m\u001b[0m\n\u001b[1;32m   1071\u001b[0m     \"\"\"\n\u001b[0;32m-> 1072\u001b[0;31m     \u001b[0mtable\u001b[0m \u001b[0;34m=\u001b[0m \u001b[0mget_raw_table\u001b[0m\u001b[0;34m(\u001b[0m\u001b[0mtable_name\u001b[0m\u001b[0;34m)\u001b[0m\u001b[0;34m\u001b[0m\u001b[0;34m\u001b[0m\u001b[0m\n\u001b[0m\u001b[1;32m   1073\u001b[0m     \u001b[0;32mif\u001b[0m \u001b[0misinstance\u001b[0m\u001b[0;34m(\u001b[0m\u001b[0mtable\u001b[0m\u001b[0;34m,\u001b[0m \u001b[0mTableFuncWrapper\u001b[0m\u001b[0;34m)\u001b[0m\u001b[0;34m:\u001b[0m\u001b[0;34m\u001b[0m\u001b[0;34m\u001b[0m\u001b[0m\n\u001b[1;32m   1074\u001b[0m         \u001b[0mtable\u001b[0m \u001b[0;34m=\u001b[0m \u001b[0mtable\u001b[0m\u001b[0;34m(\u001b[0m\u001b[0;34m)\u001b[0m\u001b[0;34m\u001b[0m\u001b[0;34m\u001b[0m\u001b[0m\n",
      "\u001b[0;32m~/anaconda3/envs/urbansim/lib/python3.6/site-packages/orca/orca.py\u001b[0m in \u001b[0;36mget_raw_table\u001b[0;34m(table_name)\u001b[0m\n\u001b[1;32m   1052\u001b[0m         \u001b[0;32mreturn\u001b[0m \u001b[0m_TABLES\u001b[0m\u001b[0;34m[\u001b[0m\u001b[0mtable_name\u001b[0m\u001b[0;34m]\u001b[0m\u001b[0;34m\u001b[0m\u001b[0;34m\u001b[0m\u001b[0m\n\u001b[1;32m   1053\u001b[0m     \u001b[0;32melse\u001b[0m\u001b[0;34m:\u001b[0m\u001b[0;34m\u001b[0m\u001b[0;34m\u001b[0m\u001b[0m\n\u001b[0;32m-> 1054\u001b[0;31m         \u001b[0;32mraise\u001b[0m \u001b[0mKeyError\u001b[0m\u001b[0;34m(\u001b[0m\u001b[0;34m'table not found: {}'\u001b[0m\u001b[0;34m.\u001b[0m\u001b[0mformat\u001b[0m\u001b[0;34m(\u001b[0m\u001b[0mtable_name\u001b[0m\u001b[0;34m)\u001b[0m\u001b[0;34m)\u001b[0m\u001b[0;34m\u001b[0m\u001b[0;34m\u001b[0m\u001b[0m\n\u001b[0m\u001b[1;32m   1055\u001b[0m \u001b[0;34m\u001b[0m\u001b[0m\n\u001b[1;32m   1056\u001b[0m \u001b[0;34m\u001b[0m\u001b[0m\n",
      "\u001b[0;31mKeyError\u001b[0m: 'table not found: zones'"
     ]
    }
   ],
   "source": [
    "zones = orca.get_table('zones').to_frame()\n",
    "print(zones.shape)\n",
    "zones"
   ]
  },
  {
   "cell_type": "code",
   "execution_count": 15,
   "metadata": {},
   "outputs": [
    {
     "data": {
      "text/html": [
       "<div>\n",
       "<style scoped>\n",
       "    .dataframe tbody tr th:only-of-type {\n",
       "        vertical-align: middle;\n",
       "    }\n",
       "\n",
       "    .dataframe tbody tr th {\n",
       "        vertical-align: top;\n",
       "    }\n",
       "\n",
       "    .dataframe thead th {\n",
       "        text-align: right;\n",
       "    }\n",
       "</style>\n",
       "<table border=\"1\" class=\"dataframe\">\n",
       "  <thead>\n",
       "    <tr style=\"text-align: right;\">\n",
       "      <th></th>\n",
       "      <th>sum_residential_units_1110</th>\n",
       "      <th>sum_residential_units_1121</th>\n",
       "      <th>sum_residential_units_1122</th>\n",
       "      <th>sum_residential_units_1130</th>\n",
       "      <th>sum_residential_units_1210</th>\n",
       "      <th>sum_residential_units_1220</th>\n",
       "      <th>sum_residential_units_2111</th>\n",
       "      <th>sum_residential_units_2112</th>\n",
       "      <th>sum_residential_units_2121</th>\n",
       "      <th>sum_residential_units_2122</th>\n",
       "      <th>...</th>\n",
       "      <th>sum_persons_10_am_peak_travel_time</th>\n",
       "      <th>sum_persons_10_md_offpeak_travel_time</th>\n",
       "      <th>total_jobs_15_am_peak_travel_time</th>\n",
       "      <th>total_jobs_15_md_offpeak_travel_time</th>\n",
       "      <th>sum_persons_15_am_peak_travel_time</th>\n",
       "      <th>sum_persons_15_md_offpeak_travel_time</th>\n",
       "      <th>total_jobs_25_am_peak_travel_time</th>\n",
       "      <th>total_jobs_25_md_offpeak_travel_time</th>\n",
       "      <th>sum_persons_25_am_peak_travel_time</th>\n",
       "      <th>sum_persons_25_md_offpeak_travel_time</th>\n",
       "    </tr>\n",
       "  </thead>\n",
       "  <tbody>\n",
       "    <tr>\n",
       "      <th>count</th>\n",
       "      <td>639.000000</td>\n",
       "      <td>639.000000</td>\n",
       "      <td>639.000000</td>\n",
       "      <td>639.000000</td>\n",
       "      <td>639.000000</td>\n",
       "      <td>639.000000</td>\n",
       "      <td>639.0</td>\n",
       "      <td>639.0</td>\n",
       "      <td>639.0</td>\n",
       "      <td>639.0</td>\n",
       "      <td>...</td>\n",
       "      <td>639.000000</td>\n",
       "      <td>639.000000</td>\n",
       "      <td>639.000000</td>\n",
       "      <td>639.000000</td>\n",
       "      <td>639.000000</td>\n",
       "      <td>639.000000</td>\n",
       "      <td>639.000000</td>\n",
       "      <td>639.000000</td>\n",
       "      <td>639.000000</td>\n",
       "      <td>639.000000</td>\n",
       "    </tr>\n",
       "    <tr>\n",
       "      <th>mean</th>\n",
       "      <td>102.428844</td>\n",
       "      <td>0.852895</td>\n",
       "      <td>12.517997</td>\n",
       "      <td>96.013342</td>\n",
       "      <td>3.916760</td>\n",
       "      <td>38.776799</td>\n",
       "      <td>0.0</td>\n",
       "      <td>0.0</td>\n",
       "      <td>0.0</td>\n",
       "      <td>0.0</td>\n",
       "      <td>...</td>\n",
       "      <td>71369.323944</td>\n",
       "      <td>73192.442879</td>\n",
       "      <td>83322.098592</td>\n",
       "      <td>86442.111111</td>\n",
       "      <td>134934.464789</td>\n",
       "      <td>138490.507042</td>\n",
       "      <td>106096.164319</td>\n",
       "      <td>106307.165884</td>\n",
       "      <td>192335.251956</td>\n",
       "      <td>193126.220657</td>\n",
       "    </tr>\n",
       "    <tr>\n",
       "      <th>std</th>\n",
       "      <td>124.717652</td>\n",
       "      <td>4.681413</td>\n",
       "      <td>25.391096</td>\n",
       "      <td>813.509790</td>\n",
       "      <td>13.732248</td>\n",
       "      <td>113.596380</td>\n",
       "      <td>0.0</td>\n",
       "      <td>0.0</td>\n",
       "      <td>0.0</td>\n",
       "      <td>0.0</td>\n",
       "      <td>...</td>\n",
       "      <td>30260.913246</td>\n",
       "      <td>29676.021976</td>\n",
       "      <td>23060.958691</td>\n",
       "      <td>20652.844337</td>\n",
       "      <td>40810.457765</td>\n",
       "      <td>38239.234921</td>\n",
       "      <td>2806.521445</td>\n",
       "      <td>2062.314521</td>\n",
       "      <td>9450.932462</td>\n",
       "      <td>7479.235075</td>\n",
       "    </tr>\n",
       "    <tr>\n",
       "      <th>min</th>\n",
       "      <td>0.000000</td>\n",
       "      <td>0.000000</td>\n",
       "      <td>0.000000</td>\n",
       "      <td>0.000000</td>\n",
       "      <td>0.000000</td>\n",
       "      <td>0.000000</td>\n",
       "      <td>0.0</td>\n",
       "      <td>0.0</td>\n",
       "      <td>0.0</td>\n",
       "      <td>0.0</td>\n",
       "      <td>...</td>\n",
       "      <td>1958.000000</td>\n",
       "      <td>2198.000000</td>\n",
       "      <td>3516.000000</td>\n",
       "      <td>4038.000000</td>\n",
       "      <td>20429.000000</td>\n",
       "      <td>21570.000000</td>\n",
       "      <td>69743.000000</td>\n",
       "      <td>77079.000000</td>\n",
       "      <td>92472.000000</td>\n",
       "      <td>102156.000000</td>\n",
       "    </tr>\n",
       "    <tr>\n",
       "      <th>25%</th>\n",
       "      <td>2.002627</td>\n",
       "      <td>0.000000</td>\n",
       "      <td>0.000000</td>\n",
       "      <td>0.000000</td>\n",
       "      <td>0.000000</td>\n",
       "      <td>0.000000</td>\n",
       "      <td>0.0</td>\n",
       "      <td>0.0</td>\n",
       "      <td>0.0</td>\n",
       "      <td>0.0</td>\n",
       "      <td>...</td>\n",
       "      <td>47689.000000</td>\n",
       "      <td>49656.500000</td>\n",
       "      <td>72131.000000</td>\n",
       "      <td>77016.500000</td>\n",
       "      <td>105631.000000</td>\n",
       "      <td>112378.000000</td>\n",
       "      <td>106575.000000</td>\n",
       "      <td>106585.000000</td>\n",
       "      <td>194067.000000</td>\n",
       "      <td>194140.000000</td>\n",
       "    </tr>\n",
       "    <tr>\n",
       "      <th>50%</th>\n",
       "      <td>46.000000</td>\n",
       "      <td>0.000000</td>\n",
       "      <td>0.000000</td>\n",
       "      <td>0.000000</td>\n",
       "      <td>0.000000</td>\n",
       "      <td>0.000000</td>\n",
       "      <td>0.0</td>\n",
       "      <td>0.0</td>\n",
       "      <td>0.0</td>\n",
       "      <td>0.0</td>\n",
       "      <td>...</td>\n",
       "      <td>72874.000000</td>\n",
       "      <td>75903.000000</td>\n",
       "      <td>89646.000000</td>\n",
       "      <td>92636.000000</td>\n",
       "      <td>138947.000000</td>\n",
       "      <td>145574.000000</td>\n",
       "      <td>106613.000000</td>\n",
       "      <td>106641.000000</td>\n",
       "      <td>194509.000000</td>\n",
       "      <td>194883.000000</td>\n",
       "    </tr>\n",
       "    <tr>\n",
       "      <th>75%</th>\n",
       "      <td>173.507978</td>\n",
       "      <td>0.000000</td>\n",
       "      <td>15.500000</td>\n",
       "      <td>9.000000</td>\n",
       "      <td>0.000000</td>\n",
       "      <td>11.000000</td>\n",
       "      <td>0.0</td>\n",
       "      <td>0.0</td>\n",
       "      <td>0.0</td>\n",
       "      <td>0.0</td>\n",
       "      <td>...</td>\n",
       "      <td>91777.000000</td>\n",
       "      <td>94356.000000</td>\n",
       "      <td>102177.500000</td>\n",
       "      <td>102766.000000</td>\n",
       "      <td>170741.000000</td>\n",
       "      <td>170750.500000</td>\n",
       "      <td>106648.000000</td>\n",
       "      <td>106648.000000</td>\n",
       "      <td>195100.000000</td>\n",
       "      <td>195100.000000</td>\n",
       "    </tr>\n",
       "    <tr>\n",
       "      <th>max</th>\n",
       "      <td>746.011955</td>\n",
       "      <td>68.000000</td>\n",
       "      <td>256.000000</td>\n",
       "      <td>18792.000000</td>\n",
       "      <td>125.000000</td>\n",
       "      <td>1550.000000</td>\n",
       "      <td>0.0</td>\n",
       "      <td>0.0</td>\n",
       "      <td>0.0</td>\n",
       "      <td>0.0</td>\n",
       "      <td>...</td>\n",
       "      <td>140923.000000</td>\n",
       "      <td>140464.000000</td>\n",
       "      <td>106549.000000</td>\n",
       "      <td>106506.000000</td>\n",
       "      <td>193399.000000</td>\n",
       "      <td>193209.000000</td>\n",
       "      <td>106648.000000</td>\n",
       "      <td>106648.000000</td>\n",
       "      <td>195100.000000</td>\n",
       "      <td>195100.000000</td>\n",
       "    </tr>\n",
       "  </tbody>\n",
       "</table>\n",
       "<p>8 rows × 230 columns</p>\n",
       "</div>"
      ],
      "text/plain": [
       "       sum_residential_units_1110  sum_residential_units_1121  \\\n",
       "count                  639.000000                  639.000000   \n",
       "mean                   102.428844                    0.852895   \n",
       "std                    124.717652                    4.681413   \n",
       "min                      0.000000                    0.000000   \n",
       "25%                      2.002627                    0.000000   \n",
       "50%                     46.000000                    0.000000   \n",
       "75%                    173.507978                    0.000000   \n",
       "max                    746.011955                   68.000000   \n",
       "\n",
       "       sum_residential_units_1122  sum_residential_units_1130  \\\n",
       "count                  639.000000                  639.000000   \n",
       "mean                    12.517997                   96.013342   \n",
       "std                     25.391096                  813.509790   \n",
       "min                      0.000000                    0.000000   \n",
       "25%                      0.000000                    0.000000   \n",
       "50%                      0.000000                    0.000000   \n",
       "75%                     15.500000                    9.000000   \n",
       "max                    256.000000                18792.000000   \n",
       "\n",
       "       sum_residential_units_1210  sum_residential_units_1220  \\\n",
       "count                  639.000000                  639.000000   \n",
       "mean                     3.916760                   38.776799   \n",
       "std                     13.732248                  113.596380   \n",
       "min                      0.000000                    0.000000   \n",
       "25%                      0.000000                    0.000000   \n",
       "50%                      0.000000                    0.000000   \n",
       "75%                      0.000000                   11.000000   \n",
       "max                    125.000000                 1550.000000   \n",
       "\n",
       "       sum_residential_units_2111  sum_residential_units_2112  \\\n",
       "count                       639.0                       639.0   \n",
       "mean                          0.0                         0.0   \n",
       "std                           0.0                         0.0   \n",
       "min                           0.0                         0.0   \n",
       "25%                           0.0                         0.0   \n",
       "50%                           0.0                         0.0   \n",
       "75%                           0.0                         0.0   \n",
       "max                           0.0                         0.0   \n",
       "\n",
       "       sum_residential_units_2121  sum_residential_units_2122  \\\n",
       "count                       639.0                       639.0   \n",
       "mean                          0.0                         0.0   \n",
       "std                           0.0                         0.0   \n",
       "min                           0.0                         0.0   \n",
       "25%                           0.0                         0.0   \n",
       "50%                           0.0                         0.0   \n",
       "75%                           0.0                         0.0   \n",
       "max                           0.0                         0.0   \n",
       "\n",
       "                       ...                    \\\n",
       "count                  ...                     \n",
       "mean                   ...                     \n",
       "std                    ...                     \n",
       "min                    ...                     \n",
       "25%                    ...                     \n",
       "50%                    ...                     \n",
       "75%                    ...                     \n",
       "max                    ...                     \n",
       "\n",
       "       sum_persons_10_am_peak_travel_time  \\\n",
       "count                          639.000000   \n",
       "mean                         71369.323944   \n",
       "std                          30260.913246   \n",
       "min                           1958.000000   \n",
       "25%                          47689.000000   \n",
       "50%                          72874.000000   \n",
       "75%                          91777.000000   \n",
       "max                         140923.000000   \n",
       "\n",
       "       sum_persons_10_md_offpeak_travel_time  \\\n",
       "count                             639.000000   \n",
       "mean                            73192.442879   \n",
       "std                             29676.021976   \n",
       "min                              2198.000000   \n",
       "25%                             49656.500000   \n",
       "50%                             75903.000000   \n",
       "75%                             94356.000000   \n",
       "max                            140464.000000   \n",
       "\n",
       "       total_jobs_15_am_peak_travel_time  \\\n",
       "count                         639.000000   \n",
       "mean                        83322.098592   \n",
       "std                         23060.958691   \n",
       "min                          3516.000000   \n",
       "25%                         72131.000000   \n",
       "50%                         89646.000000   \n",
       "75%                        102177.500000   \n",
       "max                        106549.000000   \n",
       "\n",
       "       total_jobs_15_md_offpeak_travel_time  \\\n",
       "count                            639.000000   \n",
       "mean                           86442.111111   \n",
       "std                            20652.844337   \n",
       "min                             4038.000000   \n",
       "25%                            77016.500000   \n",
       "50%                            92636.000000   \n",
       "75%                           102766.000000   \n",
       "max                           106506.000000   \n",
       "\n",
       "       sum_persons_15_am_peak_travel_time  \\\n",
       "count                          639.000000   \n",
       "mean                        134934.464789   \n",
       "std                          40810.457765   \n",
       "min                          20429.000000   \n",
       "25%                         105631.000000   \n",
       "50%                         138947.000000   \n",
       "75%                         170741.000000   \n",
       "max                         193399.000000   \n",
       "\n",
       "       sum_persons_15_md_offpeak_travel_time  \\\n",
       "count                             639.000000   \n",
       "mean                           138490.507042   \n",
       "std                             38239.234921   \n",
       "min                             21570.000000   \n",
       "25%                            112378.000000   \n",
       "50%                            145574.000000   \n",
       "75%                            170750.500000   \n",
       "max                            193209.000000   \n",
       "\n",
       "       total_jobs_25_am_peak_travel_time  \\\n",
       "count                         639.000000   \n",
       "mean                       106096.164319   \n",
       "std                          2806.521445   \n",
       "min                         69743.000000   \n",
       "25%                        106575.000000   \n",
       "50%                        106613.000000   \n",
       "75%                        106648.000000   \n",
       "max                        106648.000000   \n",
       "\n",
       "       total_jobs_25_md_offpeak_travel_time  \\\n",
       "count                            639.000000   \n",
       "mean                          106307.165884   \n",
       "std                             2062.314521   \n",
       "min                            77079.000000   \n",
       "25%                           106585.000000   \n",
       "50%                           106641.000000   \n",
       "75%                           106648.000000   \n",
       "max                           106648.000000   \n",
       "\n",
       "       sum_persons_25_am_peak_travel_time  \\\n",
       "count                          639.000000   \n",
       "mean                        192335.251956   \n",
       "std                           9450.932462   \n",
       "min                          92472.000000   \n",
       "25%                         194067.000000   \n",
       "50%                         194509.000000   \n",
       "75%                         195100.000000   \n",
       "max                         195100.000000   \n",
       "\n",
       "       sum_persons_25_md_offpeak_travel_time  \n",
       "count                             639.000000  \n",
       "mean                           193126.220657  \n",
       "std                              7479.235075  \n",
       "min                            102156.000000  \n",
       "25%                            194140.000000  \n",
       "50%                            194883.000000  \n",
       "75%                            195100.000000  \n",
       "max                            195100.000000  \n",
       "\n",
       "[8 rows x 230 columns]"
      ]
     },
     "execution_count": 15,
     "metadata": {},
     "output_type": "execute_result"
    }
   ],
   "source": [
    "zones.describe()"
   ]
  },
  {
   "cell_type": "markdown",
   "metadata": {},
   "source": [
    "## Defining computed variables/indicators"
   ]
  },
  {
   "cell_type": "code",
   "execution_count": 16,
   "metadata": {},
   "outputs": [],
   "source": [
    "@orca.column('zone_districts')\n",
    "def total_population(households):\n",
    "    return households.persons.groupby(households.zone_district_id).sum()\n",
    "\n",
    "@orca.column('zone_districts')\n",
    "def mean_income(households):\n",
    "    return households.income.groupby(households.zone_district_id).mean()"
   ]
  },
  {
   "cell_type": "code",
   "execution_count": 17,
   "metadata": {},
   "outputs": [
    {
     "name": "stdout",
     "output_type": "stream",
     "text": [
      "Disaggregating zone_district_id to households from parcels\n"
     ]
    },
    {
     "data": {
      "text/plain": [
       "right\n",
       "1     20699\n",
       "2     24991\n",
       "3     15323\n",
       "4     22796\n",
       "5     28633\n",
       "6     27340\n",
       "7     12660\n",
       "8     10987\n",
       "9     29981\n",
       "10     1690\n",
       "Name: persons, dtype: int64"
      ]
     },
     "execution_count": 17,
     "metadata": {},
     "output_type": "execute_result"
    }
   ],
   "source": [
    "orca.get_table('zone_districts').total_population"
   ]
  },
  {
   "cell_type": "code",
   "execution_count": 18,
   "metadata": {},
   "outputs": [
    {
     "data": {
      "text/plain": [
       "<matplotlib.axes._subplots.AxesSubplot at 0x7ff4ec5ba588>"
      ]
     },
     "execution_count": 18,
     "metadata": {},
     "output_type": "execute_result"
    },
    {
     "data": {
      "image/png": "[encoded data removed]",
      "text/plain": [
       "<Figure size 432x288 with 1 Axes>"
      ]
     },
     "metadata": {},
     "output_type": "display_data"
    }
   ],
   "source": [
    "orca.get_table('zone_districts').total_population.plot(kind='bar')"
   ]
  },
  {
   "cell_type": "code",
   "execution_count": 19,
   "metadata": {},
   "outputs": [
    {
     "data": {
      "text/plain": [
       "<matplotlib.axes._subplots.AxesSubplot at 0x7ff4ec571f28>"
      ]
     },
     "execution_count": 19,
     "metadata": {},
     "output_type": "execute_result"
    },
    {
     "data": {
      "image/png": "[encoded data removed]",
      "text/plain": [
       "<Figure size 432x288 with 1 Axes>"
      ]
     },
     "metadata": {},
     "output_type": "display_data"
    }
   ],
   "source": [
    "orca.get_table('zone_districts').mean_income.plot(kind='bar')"
   ]
  },
  {
   "cell_type": "code",
   "execution_count": 20,
   "metadata": {},
   "outputs": [],
   "source": [
    "@orca.column('zones')\n",
    "def median_household_size(households):\n",
    "    return households.persons.groupby(households.zone_id).median()"
   ]
  },
  {
   "cell_type": "code",
   "execution_count": 21,
   "metadata": {},
   "outputs": [],
   "source": [
    "@orca.column('zones')\n",
    "def mean_household_size_carowners(households):\n",
    "    households = households.to_frame()\n",
    "    households = households[households.cars > 0]\n",
    "    return households.persons.groupby(households.zone_id).mean()"
   ]
  },
  {
   "cell_type": "code",
   "execution_count": 15,
   "metadata": {},
   "outputs": [
    {
     "data": {
      "text/plain": [
       "2578046"
      ]
     },
     "execution_count": 15,
     "metadata": {},
     "output_type": "execute_result"
    }
   ],
   "source": [
    "len(orca.get_table('jobs'))"
   ]
  },
  {
   "cell_type": "code",
   "execution_count": 23,
   "metadata": {},
   "outputs": [
    {
     "name": "stdout",
     "output_type": "stream",
     "text": [
      "Disaggregating proportion_undevelopable to households from parcels\n",
      "Disaggregating land_value to households from parcels\n",
      "Disaggregating acres to households from parcels\n",
      "Disaggregating zoning_id to households from parcels\n",
      "Disaggregating city to households from parcels\n",
      "Disaggregating plan_id to households from parcels\n",
      "Disaggregating zone_subdistrict_id to households from parcels\n",
      "Disaggregating location_id to households from parcels\n",
      "Disaggregating city_1 to households from parcels\n",
      "Disaggregating block_id to households from parcels\n",
      "Disaggregating block_group_id to households from parcels\n",
      "Disaggregating x to households from parcels\n",
      "Disaggregating y to households from parcels\n",
      "Disaggregating sum_residential_units_1110 to households from parcels\n",
      "Disaggregating sum_residential_units_1121 to households from parcels\n",
      "Disaggregating sum_residential_units_1122 to households from parcels\n",
      "Disaggregating sum_residential_units_1130 to households from parcels\n",
      "Disaggregating sum_residential_units_1210 to households from parcels\n",
      "Disaggregating sum_residential_units_1220 to households from parcels\n",
      "Disaggregating sum_residential_units_2111 to households from parcels\n",
      "Disaggregating sum_residential_units_2112 to households from parcels\n",
      "Disaggregating sum_residential_units_2121 to households from parcels\n",
      "Disaggregating sum_residential_units_2122 to households from parcels\n",
      "Disaggregating sum_residential_units_2131 to households from parcels\n",
      "Disaggregating sum_residential_units_2132 to households from parcels\n",
      "Disaggregating sum_residential_units_7100 to households from parcels\n",
      "Disaggregating sum_residential_units_7200 to households from parcels\n",
      "Disaggregating sum_residential_units_7300 to households from parcels\n",
      "Disaggregating sum_residential_units_7900 to households from parcels\n",
      "Disaggregating sum_non_residential_sqft_2111 to households from parcels\n",
      "Disaggregating sum_non_residential_sqft_2112 to households from parcels\n",
      "Disaggregating sum_non_residential_sqft_2121 to households from parcels\n",
      "Disaggregating sum_non_residential_sqft_2122 to households from parcels\n",
      "Disaggregating sum_non_residential_sqft_2131 to households from parcels\n",
      "Disaggregating sum_non_residential_sqft_2132 to households from parcels\n",
      "Disaggregating sum_non_residential_sqft_2140 to households from parcels\n",
      "Disaggregating sum_non_residential_sqft_3100 to households from parcels\n",
      "Disaggregating sum_non_residential_sqft_3200 to households from parcels\n",
      "Disaggregating sum_non_residential_sqft_4100 to households from parcels\n",
      "Disaggregating sum_non_residential_sqft_4200 to households from parcels\n",
      "Disaggregating sum_non_residential_sqft_4210 to households from parcels\n",
      "Disaggregating sum_non_residential_sqft_4220 to households from parcels\n",
      "Disaggregating sum_non_residential_sqft_4230 to households from parcels\n",
      "Disaggregating sum_non_residential_sqft_4240 to households from parcels\n",
      "Disaggregating sum_non_residential_sqft_4250 to households from parcels\n",
      "Disaggregating sum_non_residential_sqft_4260 to households from parcels\n",
      "Disaggregating sum_non_residential_sqft_4290 to households from parcels\n",
      "Disaggregating sum_non_residential_sqft_4300 to households from parcels\n",
      "Disaggregating sum_non_residential_sqft_4310 to households from parcels\n",
      "Disaggregating sum_non_residential_sqft_4320 to households from parcels\n",
      "Disaggregating sum_non_residential_sqft_4400 to households from parcels\n",
      "Disaggregating sum_non_residential_sqft_4900 to households from parcels\n",
      "Disaggregating sum_non_residential_sqft_5100 to households from parcels\n",
      "Disaggregating sum_non_residential_sqft_5200 to households from parcels\n",
      "Disaggregating sum_non_residential_sqft_6110 to households from parcels\n",
      "Disaggregating sum_non_residential_sqft_6120 to households from parcels\n",
      "Disaggregating sum_non_residential_sqft_6130 to households from parcels\n",
      "Disaggregating sum_non_residential_sqft_6140 to households from parcels\n",
      "Disaggregating sum_non_residential_sqft_6150 to households from parcels\n",
      "Disaggregating sum_non_residential_sqft_6160 to households from parcels\n",
      "Disaggregating sum_non_residential_sqft_6170 to households from parcels\n",
      "Disaggregating sum_non_residential_sqft_6210 to households from parcels\n",
      "Disaggregating sum_non_residential_sqft_6220 to households from parcels\n",
      "Disaggregating sum_non_residential_sqft_6230 to households from parcels\n",
      "Disaggregating sum_non_residential_sqft_7200 to households from parcels\n",
      "Disaggregating remaining_residential_unit_capacity to households from parcels\n",
      "Disaggregating remaining_nonresidential_sqft_capacity to households from parcels\n"
     ]
    },
    {
     "data": {
      "text/plain": [
       "zone_id\n",
       "25     1.869565\n",
       "26     2.114286\n",
       "27     2.400000\n",
       "28     2.000000\n",
       "29     1.000000\n",
       "30     1.875000\n",
       "32     2.000000\n",
       "33     2.952381\n",
       "34     2.225352\n",
       "38     2.200000\n",
       "39     2.250000\n",
       "40     2.000000\n",
       "41     3.666667\n",
       "42     2.090909\n",
       "43     3.166667\n",
       "44     2.100000\n",
       "45     2.750000\n",
       "46     2.235577\n",
       "47     2.129676\n",
       "48     1.000000\n",
       "49     2.491194\n",
       "50     2.120253\n",
       "51     1.857143\n",
       "52     2.500000\n",
       "53     2.057143\n",
       "54     2.355932\n",
       "55     2.260870\n",
       "56     2.052632\n",
       "57     2.000000\n",
       "58     2.000000\n",
       "         ...   \n",
       "632    3.000000\n",
       "633    2.914286\n",
       "634    2.833333\n",
       "635    2.268293\n",
       "636    2.757576\n",
       "637    2.457627\n",
       "638    2.691824\n",
       "639    2.142857\n",
       "640    2.183099\n",
       "641    2.102041\n",
       "642    2.075676\n",
       "643    2.411765\n",
       "644    2.089888\n",
       "647    2.000000\n",
       "648    1.346154\n",
       "649    2.646707\n",
       "650    1.833333\n",
       "651    1.910506\n",
       "652    1.744076\n",
       "653    2.236842\n",
       "654    1.797101\n",
       "655    2.106557\n",
       "656    2.313433\n",
       "657    1.781955\n",
       "658    2.000000\n",
       "662    2.049451\n",
       "663    2.041916\n",
       "664    1.600000\n",
       "665    2.180077\n",
       "666    1.750000\n",
       "Name: persons, Length: 530, dtype: float64"
      ]
     },
     "execution_count": 23,
     "metadata": {},
     "output_type": "execute_result"
    }
   ],
   "source": [
    "orca.get_table('zones').mean_household_size_carowners"
   ]
  },
  {
   "cell_type": "code",
   "execution_count": 24,
   "metadata": {},
   "outputs": [
    {
     "data": {
      "text/plain": [
       "right\n",
       "25     2.0\n",
       "26     2.0\n",
       "27     2.0\n",
       "28     2.0\n",
       "29     1.0\n",
       "30     2.0\n",
       "32     2.0\n",
       "33     2.0\n",
       "34     2.0\n",
       "38     2.0\n",
       "39     2.0\n",
       "40     2.0\n",
       "41     4.0\n",
       "42     2.0\n",
       "43     3.0\n",
       "44     2.0\n",
       "45     2.0\n",
       "46     2.0\n",
       "47     2.0\n",
       "48     1.0\n",
       "49     2.0\n",
       "50     2.0\n",
       "51     2.0\n",
       "52     2.0\n",
       "53     2.0\n",
       "54     2.0\n",
       "55     2.0\n",
       "56     2.0\n",
       "57     2.0\n",
       "58     2.0\n",
       "      ... \n",
       "632    3.0\n",
       "633    2.0\n",
       "634    3.0\n",
       "635    2.0\n",
       "636    2.0\n",
       "637    2.0\n",
       "638    2.0\n",
       "639    2.0\n",
       "640    2.0\n",
       "641    2.0\n",
       "642    2.0\n",
       "643    2.0\n",
       "644    2.0\n",
       "647    1.5\n",
       "648    1.0\n",
       "649    2.0\n",
       "650    1.0\n",
       "651    2.0\n",
       "652    2.0\n",
       "653    2.0\n",
       "654    1.5\n",
       "655    2.0\n",
       "656    2.0\n",
       "657    1.0\n",
       "658    1.0\n",
       "662    2.0\n",
       "663    2.0\n",
       "664    1.0\n",
       "665    2.0\n",
       "666    1.0\n",
       "Name: persons, Length: 531, dtype: float64"
      ]
     },
     "execution_count": 24,
     "metadata": {},
     "output_type": "execute_result"
    }
   ],
   "source": [
    "orca.get_table('zones').median_household_size"
   ]
  },
  {
   "cell_type": "code",
   "execution_count": null,
   "metadata": {},
   "outputs": [],
   "source": []
  }
 ],
 "metadata": {
  "kernelspec": {
   "display_name": "Python 3",
   "language": "python",
   "name": "python3"
  },
  "language_info": {
   "codemirror_mode": {
    "name": "ipython",
    "version": 3
   },
   "file_extension": ".py",
   "mimetype": "text/x-python",
   "name": "python",
   "nbconvert_exporter": "python",
   "pygments_lexer": "ipython3",
   "version": "3.6.7"
  }
 },
 "nbformat": 4,
 "nbformat_minor": 2
}
